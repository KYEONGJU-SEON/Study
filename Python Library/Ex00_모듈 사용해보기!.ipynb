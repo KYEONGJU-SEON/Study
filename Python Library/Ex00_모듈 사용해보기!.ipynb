{
 "cells": [
  {
   "cell_type": "markdown",
   "id": "2a9d6603",
   "metadata": {},
   "source": [
    "## 모듈 사용해보기~\n",
    "- 주의 ! : 현재 Script 파일과 모듈 파일(.py)이 같은 공간에 위치해야한다"
   ]
  },
  {
   "cell_type": "code",
   "execution_count": 2,
   "id": "a6782598",
   "metadata": {},
   "outputs": [],
   "source": [
    "#모듈 불러오기\n",
    "# 로딩할때 저장해준 파일이름과 똑같아야하다!\n",
    "import Module as md"
   ]
  },
  {
   "cell_type": "code",
   "execution_count": 3,
   "id": "2e6a5047",
   "metadata": {},
   "outputs": [
    {
     "data": {
      "text/plain": [
       "16"
      ]
     },
     "execution_count": 3,
     "metadata": {},
     "output_type": "execute_result"
    }
   ],
   "source": [
    "#더하기 기능 사용해보기~ \n",
    "md.add_num(8,8)"
   ]
  },
  {
   "cell_type": "code",
   "execution_count": 5,
   "id": "06ac40e4",
   "metadata": {},
   "outputs": [
    {
     "data": {
      "text/plain": [
       "3"
      ]
     },
     "execution_count": 5,
     "metadata": {},
     "output_type": "execute_result"
    }
   ],
   "source": [
    "#빼기 기능 사용해보기~(자동완성 : Tab)\n",
    "md.sub_num(7,4)"
   ]
  },
  {
   "cell_type": "code",
   "execution_count": null,
   "id": "f0febd12",
   "metadata": {},
   "outputs": [],
   "source": [
    "#kernel이 다시 실행되면 import도 반드시 다시 해줘야한다!"
   ]
  },
  {
   "cell_type": "code",
   "execution_count": 4,
   "id": "9ec44af6",
   "metadata": {},
   "outputs": [],
   "source": [
    "# 데이터가 많아서 무거운 라이브러리를 사용할때는 특정 함수만 가져와서 사용할 수 있다. \n",
    "from Module import add_num "
   ]
  },
  {
   "cell_type": "code",
   "execution_count": 5,
   "id": "d177688c",
   "metadata": {},
   "outputs": [
    {
     "data": {
      "text/plain": [
       "16"
      ]
     },
     "execution_count": 5,
     "metadata": {},
     "output_type": "execute_result"
    }
   ],
   "source": [
    "add_num(8,8)"
   ]
  },
  {
   "cell_type": "code",
   "execution_count": 6,
   "id": "f84fa7bc",
   "metadata": {},
   "outputs": [
    {
     "ename": "NameError",
     "evalue": "name 'sub_num' is not defined",
     "output_type": "error",
     "traceback": [
      "\u001b[1;31m---------------------------------------------------------------------------\u001b[0m",
      "\u001b[1;31mNameError\u001b[0m                                 Traceback (most recent call last)",
      "Input \u001b[1;32mIn [6]\u001b[0m, in \u001b[0;36m<cell line: 1>\u001b[1;34m()\u001b[0m\n\u001b[1;32m----> 1\u001b[0m \u001b[43msub_num\u001b[49m(\u001b[38;5;241m10\u001b[39m,\u001b[38;5;241m8\u001b[39m)\n",
      "\u001b[1;31mNameError\u001b[0m: name 'sub_num' is not defined"
     ]
    }
   ],
   "source": [
    "sub_num(10,8)"
   ]
  },
  {
   "cell_type": "markdown",
   "id": "d5997b2b",
   "metadata": {},
   "source": [
    "## 라이브러리 로딩하는 방법 (2가지)\n",
    "1. 라이브러리 전체를 로딩하는 방법\n",
    "(import Module as md)\n",
    "2. 라이브러리 안에서 필요한 함수만 호출하는 방법 \n",
    "(from Module import add_num)"
   ]
  },
  {
   "cell_type": "code",
   "execution_count": null,
   "id": "c9f56e93",
   "metadata": {},
   "outputs": [],
   "source": []
  }
 ],
 "metadata": {
  "kernelspec": {
   "display_name": "Python 3 (ipykernel)",
   "language": "python",
   "name": "python3"
  },
  "language_info": {
   "codemirror_mode": {
    "name": "ipython",
    "version": 3
   },
   "file_extension": ".py",
   "mimetype": "text/x-python",
   "name": "python",
   "nbconvert_exporter": "python",
   "pygments_lexer": "ipython3",
   "version": "3.9.12"
  }
 },
 "nbformat": 4,
 "nbformat_minor": 5
}
