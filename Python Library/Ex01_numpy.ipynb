{
 "cells": [
  {
   "cell_type": "markdown",
   "id": "80fd2c5c",
   "metadata": {},
   "source": [
    "## 라이브러리 불러오기"
   ]
  },
  {
   "cell_type": "code",
   "execution_count": 1,
   "id": "ca201abb",
   "metadata": {},
   "outputs": [],
   "source": [
    "import numpy as np"
   ]
  },
  {
   "cell_type": "code",
   "execution_count": 2,
   "id": "5dab8344",
   "metadata": {},
   "outputs": [
    {
     "name": "stdout",
     "output_type": "stream",
     "text": [
      "Requirement already satisfied: numpy in c:\\users\\smhrd\\anaconda3\\lib\\site-packages (1.21.5)\n"
     ]
    }
   ],
   "source": [
    "# numpy 라이브러리가 없다면? (numpy 는 동일한 타입만 넣을 수 있다. )\n",
    "!pip install numpy"
   ]
  },
  {
   "cell_type": "markdown",
   "id": "e0a4720a",
   "metadata": {},
   "source": [
    "### 1차원 배열(array) 만들기"
   ]
  },
  {
   "cell_type": "markdown",
   "id": "a9dfc995",
   "metadata": {},
   "source": [
    "numpy쓰는 이유 \n",
    " list는 계산이 안되고 list에 더하기를 하면 list요소만 추가됨 여러형태혼합 가능 - 바보\n",
    " arr - 인덱스번호대로 연산이됨. 동시에 여러형태안됨."
   ]
  },
  {
   "cell_type": "code",
   "execution_count": 4,
   "id": "11f815a5",
   "metadata": {},
   "outputs": [],
   "source": [
    "list1 = [1,2,3,4,5]"
   ]
  },
  {
   "cell_type": "code",
   "execution_count": 5,
   "id": "0c314263",
   "metadata": {},
   "outputs": [
    {
     "data": {
      "text/plain": [
       "list"
      ]
     },
     "execution_count": 5,
     "metadata": {},
     "output_type": "execute_result"
    }
   ],
   "source": [
    "type(list1)"
   ]
  },
  {
   "cell_type": "code",
   "execution_count": 8,
   "id": "c5b47534",
   "metadata": {},
   "outputs": [
    {
     "data": {
      "text/plain": [
       "array([1, 2, 3, 4, 5])"
      ]
     },
     "execution_count": 8,
     "metadata": {},
     "output_type": "execute_result"
    }
   ],
   "source": [
    "arr1 = np.array(list1) # numpy에 있는 array라는 자료형\n",
    "arr1"
   ]
  },
  {
   "cell_type": "code",
   "execution_count": 9,
   "id": "0ebf1fdb",
   "metadata": {},
   "outputs": [
    {
     "data": {
      "text/plain": [
       "numpy.ndarray"
      ]
     },
     "execution_count": 9,
     "metadata": {},
     "output_type": "execute_result"
    }
   ],
   "source": [
    "type(arr1)"
   ]
  },
  {
   "cell_type": "markdown",
   "id": "0d1d4fc5",
   "metadata": {},
   "source": [
    "### 2차원 배열 생성하기"
   ]
  },
  {
   "cell_type": "code",
   "execution_count": 13,
   "id": "5b06b588",
   "metadata": {},
   "outputs": [
    {
     "data": {
      "text/plain": [
       "array([[1, 2, 3],\n",
       "       [4, 5, 6]])"
      ]
     },
     "execution_count": 13,
     "metadata": {},
     "output_type": "execute_result"
    }
   ],
   "source": [
    "list2 = [[1,2,3],[4,5,6]] #2차원 list를 생성\n",
    "arr2 = np.array(list2) #2차원 numpy배열을 생성하는 코드\n",
    "arr2 # 2차원 array"
   ]
  },
  {
   "cell_type": "markdown",
   "id": "9408c1f5",
   "metadata": {},
   "source": [
    "### 데이터 확인하기\n",
    "- 배열의 크기 (shape) -> (행, 열)\n",
    "- 배열의 개수 (size) -> 요소의 개수\n",
    "- 배열의 차원(ndim) "
   ]
  },
  {
   "cell_type": "code",
   "execution_count": 14,
   "id": "f910af5b",
   "metadata": {},
   "outputs": [
    {
     "data": {
      "text/plain": [
       "(2, 3)"
      ]
     },
     "execution_count": 14,
     "metadata": {},
     "output_type": "execute_result"
    }
   ],
   "source": [
    "# 배열의 크기 : 배열.shape\n",
    "arr2.shape #(행,열)"
   ]
  },
  {
   "cell_type": "code",
   "execution_count": 15,
   "id": "eaadfc49",
   "metadata": {},
   "outputs": [
    {
     "data": {
      "text/plain": [
       "6"
      ]
     },
     "execution_count": 15,
     "metadata": {},
     "output_type": "execute_result"
    }
   ],
   "source": [
    "# 배열의 개수 확인 : 배열.size\n",
    "arr2.size # 총 요소의 개수 "
   ]
  },
  {
   "cell_type": "code",
   "execution_count": 19,
   "id": "6444318f",
   "metadata": {},
   "outputs": [
    {
     "name": "stdout",
     "output_type": "stream",
     "text": [
      "1\n",
      "2\n"
     ]
    }
   ],
   "source": [
    "# 배열의 차원 확인 : 배열.ndim\n",
    "print(arr1.ndim)\n",
    "print(arr2.ndim)"
   ]
  },
  {
   "cell_type": "code",
   "execution_count": 20,
   "id": "087f3bb9",
   "metadata": {},
   "outputs": [
    {
     "data": {
      "text/plain": [
       "array([[[1, 2],\n",
       "        [3, 4]],\n",
       "\n",
       "       [[5, 6],\n",
       "        [7, 8]]])"
      ]
     },
     "execution_count": 20,
     "metadata": {},
     "output_type": "execute_result"
    }
   ],
   "source": [
    "list3 = [[[1,2],[3,4]],[[5,6],[7,8]]]\n",
    "arr3 = np.array(list3)\n",
    "arr3"
   ]
  },
  {
   "cell_type": "code",
   "execution_count": 23,
   "id": "1376f39f",
   "metadata": {
    "scrolled": true
   },
   "outputs": [
    {
     "name": "stdout",
     "output_type": "stream",
     "text": [
      "배열의 크기 : (2, 2, 2)\n",
      "배열의 요소 개수 : 8\n",
      "배열의 차원 : 3\n"
     ]
    }
   ],
   "source": [
    "print(f'배열의 크기 : {arr3.shape}')\n",
    "print('배열의 요소 개수 : {}'.format(arr3.size))\n",
    "print('배열의 차원 : %d'%(arr3.ndim))"
   ]
  },
  {
   "cell_type": "markdown",
   "id": "bce882bf",
   "metadata": {},
   "source": [
    "#### 배열의 연산\n",
    "- 요소별 연산이 가능하다! "
   ]
  },
  {
   "cell_type": "code",
   "execution_count": 24,
   "id": "a649211f",
   "metadata": {},
   "outputs": [
    {
     "data": {
      "text/plain": [
       "[1, 2, 3, 4, 5, 6]"
      ]
     },
     "execution_count": 24,
     "metadata": {},
     "output_type": "execute_result"
    }
   ],
   "source": [
    "list1=[1,2,3]\n",
    "list2=[4,5,6]\n",
    "list1+list2"
   ]
  },
  {
   "cell_type": "code",
   "execution_count": 29,
   "id": "9e999fda",
   "metadata": {},
   "outputs": [
    {
     "name": "stdout",
     "output_type": "stream",
     "text": [
      "[1 2 3 4 5]\n"
     ]
    },
    {
     "data": {
      "text/plain": [
       "array([ 2,  4,  6,  8, 10])"
      ]
     },
     "execution_count": 29,
     "metadata": {},
     "output_type": "execute_result"
    }
   ],
   "source": [
    "print(arr1)\n",
    "arr1 + arr1"
   ]
  },
  {
   "cell_type": "code",
   "execution_count": 30,
   "id": "0305648b",
   "metadata": {},
   "outputs": [],
   "source": [
    "#정수형과 실수형도 연산이 가능하다 \n",
    "arr4 = np.array([1.2,2.2,3.3,4.4,5.5])"
   ]
  },
  {
   "cell_type": "code",
   "execution_count": 31,
   "id": "0e323919",
   "metadata": {},
   "outputs": [
    {
     "data": {
      "text/plain": [
       "array([ 2.2,  4.2,  6.3,  8.4, 10.5])"
      ]
     },
     "execution_count": 31,
     "metadata": {},
     "output_type": "execute_result"
    }
   ],
   "source": [
    "arr1+arr4"
   ]
  },
  {
   "cell_type": "markdown",
   "id": "81ebcb61",
   "metadata": {},
   "source": [
    "### 인덱싱, 슬라이싱(범위)\n",
    "- 인덱싱 : 가리킨다 라는 의미 - > 한개의 데이터를 찾아온다.\n",
    "- 슬라이싱 : 잘라온다 라는 의미 -> 한개 이상의 데이터를 찾아온다\n",
    "- 하는 이유 : 내가 원하는 데이터에 접근하기 위해서, 손쉽게 데이터를 찾아가기 위해서 "
   ]
  },
  {
   "cell_type": "code",
   "execution_count": 33,
   "id": "0e9dd82c",
   "metadata": {},
   "outputs": [
    {
     "data": {
      "text/plain": [
       "array([[1, 2, 3],\n",
       "       [4, 5, 6]])"
      ]
     },
     "execution_count": 33,
     "metadata": {},
     "output_type": "execute_result"
    }
   ],
   "source": [
    "arr = np.array([[1,2,3],[4,5,6]])\n",
    "arr"
   ]
  },
  {
   "cell_type": "code",
   "execution_count": 35,
   "id": "90399e4a",
   "metadata": {},
   "outputs": [
    {
     "data": {
      "text/plain": [
       "2"
      ]
     },
     "execution_count": 35,
     "metadata": {},
     "output_type": "execute_result"
    }
   ],
   "source": [
    "# 숫자 2 가져오기\n",
    "arr[0][1]"
   ]
  },
  {
   "cell_type": "code",
   "execution_count": 36,
   "id": "83b05d2d",
   "metadata": {},
   "outputs": [
    {
     "data": {
      "text/plain": [
       "2"
      ]
     },
     "execution_count": 36,
     "metadata": {},
     "output_type": "execute_result"
    }
   ],
   "source": [
    "# 2차원 배열 인덱싱하는 또 다른 방법\n",
    "arr[0,1] #[행,열]"
   ]
  },
  {
   "cell_type": "code",
   "execution_count": 37,
   "id": "d2e9a31c",
   "metadata": {},
   "outputs": [
    {
     "data": {
      "text/plain": [
       "array([2, 3, 4, 5])"
      ]
     },
     "execution_count": 37,
     "metadata": {},
     "output_type": "execute_result"
    }
   ],
   "source": [
    "#슬라이싱 > 2~5까지 슬라이싱\n",
    "arr_1 = np.array([0,1,2,3,4,5,6,7,8,9])\n",
    "arr_1[2:6] # 슬라이싱 - > 변수명 [시작 : 끝+1]"
   ]
  },
  {
   "cell_type": "code",
   "execution_count": 38,
   "id": "693b06ad",
   "metadata": {},
   "outputs": [
    {
     "data": {
      "text/plain": [
       "array([3, 4, 5, 6, 7, 8, 9])"
      ]
     },
     "execution_count": 38,
     "metadata": {},
     "output_type": "execute_result"
    }
   ],
   "source": [
    "# 3~ 끝 슬라이싱\n",
    "arr_1[3:]"
   ]
  },
  {
   "cell_type": "code",
   "execution_count": null,
   "id": "c1456fb4",
   "metadata": {},
   "outputs": [],
   "source": [
    "# [:끝값+1] : 처음부터 내가 가져오고 싶은 값까지\n",
    "#[시작:]: 내가 가져오고 싶은 값부터 끝까지\n",
    "#[:] : 전체 데이터를 출력하고 싶을때"
   ]
  },
  {
   "cell_type": "markdown",
   "id": "11bda0b0",
   "metadata": {},
   "source": [
    "### BMI 지수 구하기"
   ]
  },
  {
   "cell_type": "code",
   "execution_count": 64,
   "id": "66bc6924",
   "metadata": {},
   "outputs": [
    {
     "data": {
      "text/plain": [
       "array([[175.2   , 180.3   , 175.    , 169.2   , 185.2   , 188.    ,\n",
       "        177.6   , 178.2   , 177.    , 179.    ],\n",
       "       [144.5824, 193.952 , 174.5568, 152.7372, 121.22  , 156.9248,\n",
       "        160.892 , 151.8556, 163.096 , 180.728 ]])"
      ]
     },
     "execution_count": 64,
     "metadata": {},
     "output_type": "execute_result"
    }
   ],
   "source": [
    "# 데이터 로드하기!\n",
    "data = np.loadtxt('height_weight(p).txt',delimiter=',')\n",
    "data"
   ]
  },
  {
   "cell_type": "code",
   "execution_count": 60,
   "id": "e2ddfc7b",
   "metadata": {},
   "outputs": [],
   "source": [
    "# 몸무게 데이터 인덱싱 해오기\n",
    "\n",
    "# 몸무게 데이터(p) - > (kg) *0.454\n",
    "\n",
    "# 키데이터 (cm) \n",
    "\n",
    "# 키데이터(cm)->(m) /100\n",
    "\n",
    "#BMI지수 구하기 "
   ]
  },
  {
   "cell_type": "code",
   "execution_count": 65,
   "id": "8cff84b7",
   "metadata": {},
   "outputs": [],
   "source": [
    "weight = data[1]*0.454"
   ]
  },
  {
   "cell_type": "code",
   "execution_count": 66,
   "id": "99f33b7a",
   "metadata": {},
   "outputs": [
    {
     "data": {
      "text/plain": [
       "array([1.752, 1.803, 1.75 , 1.692, 1.852, 1.88 , 1.776, 1.782, 1.77 ,\n",
       "       1.79 ])"
      ]
     },
     "execution_count": 66,
     "metadata": {},
     "output_type": "execute_result"
    }
   ],
   "source": [
    "height = data[0]/100\n",
    "height"
   ]
  },
  {
   "cell_type": "code",
   "execution_count": 68,
   "id": "5756e0c2",
   "metadata": {},
   "outputs": [
    {
     "data": {
      "text/plain": [
       "array([21.3846959 , 27.08685992, 25.877155  , 24.22144007, 16.04531206,\n",
       "       20.15727116, 23.1581776 , 21.71057199, 23.63483801, 25.60797478])"
      ]
     },
     "execution_count": 68,
     "metadata": {},
     "output_type": "execute_result"
    }
   ],
   "source": [
    "bmi = weight/height**2\n",
    "bmi"
   ]
  },
  {
   "cell_type": "markdown",
   "id": "fd984859",
   "metadata": {},
   "source": [
    "### 여러가지 방법으로 넘파이 배열 생성하기\n",
    "- 배열을 특정한 값으로 초기화해서 생성하기\n"
   ]
  },
  {
   "cell_type": "code",
   "execution_count": 72,
   "id": "a5d21127",
   "metadata": {},
   "outputs": [
    {
     "data": {
      "text/plain": [
       "array([[0., 0., 0.],\n",
       "       [0., 0., 0.]])"
      ]
     },
     "execution_count": 72,
     "metadata": {},
     "output_type": "execute_result"
    }
   ],
   "source": [
    "# 배열 안의 모든 데이터 0으로 초기화해서 생성하는 방법\n",
    "# np.zeros((행,열))(배열의 크기 -> 튜플형태로 작성할것\n",
    "arr_zero = np.zeros((2,3))"
   ]
  },
  {
   "cell_type": "code",
   "execution_count": 73,
   "id": "d3e36aac",
   "metadata": {},
   "outputs": [
    {
     "data": {
      "text/plain": [
       "array([0., 0., 0., 0., 0., 0., 0., 0., 0., 0.])"
      ]
     },
     "execution_count": 73,
     "metadata": {},
     "output_type": "execute_result"
    }
   ],
   "source": [
    "# 소괄호 안쪽에 숫자 하나만 적어주면 1차원 배열이 생성된다.\n",
    "np.zeros(10)"
   ]
  },
  {
   "cell_type": "code",
   "execution_count": 74,
   "id": "90aa63cc",
   "metadata": {},
   "outputs": [
    {
     "data": {
      "text/plain": [
       "array([[1., 1., 1., 1.],\n",
       "       [1., 1., 1., 1.],\n",
       "       [1., 1., 1., 1.]])"
      ]
     },
     "execution_count": 74,
     "metadata": {},
     "output_type": "execute_result"
    }
   ],
   "source": [
    "# 배열안의 모든 데이터를 1로 초기화 해서 생성\n",
    "# np.ones(배열의 크기(행,열)) \n",
    "np.ones((3,4)) #3행 4열"
   ]
  },
  {
   "cell_type": "code",
   "execution_count": 75,
   "id": "38d1a54c",
   "metadata": {},
   "outputs": [
    {
     "data": {
      "text/plain": [
       "array([[7, 7, 7],\n",
       "       [7, 7, 7]])"
      ]
     },
     "execution_count": 75,
     "metadata": {},
     "output_type": "execute_result"
    }
   ],
   "source": [
    "# 내가 원하는 특정값으로 초기화해서 배열 생성\n",
    "#np.full((행,열),내가 원하는 값)\n",
    "np.full((2,3),(7))"
   ]
  },
  {
   "cell_type": "markdown",
   "id": "ad74e65b",
   "metadata": {},
   "source": [
    "- 1부터 50까지 숫자데이터를 가지고 있는 1차원 배열 생성"
   ]
  },
  {
   "cell_type": "code",
   "execution_count": 92,
   "id": "f5a5ad39",
   "metadata": {},
   "outputs": [],
   "source": [
    "list_f = []\n",
    "for i in range(1,51,1):\n",
    "    list_f.append(i) "
   ]
  },
  {
   "cell_type": "code",
   "execution_count": 94,
   "id": "d7da0da1",
   "metadata": {},
   "outputs": [
    {
     "data": {
      "text/plain": [
       "array([ 1,  2,  3,  4,  5,  6,  7,  8,  9, 10, 11, 12, 13, 14, 15, 16, 17,\n",
       "       18, 19, 20, 21, 22, 23, 24, 25, 26, 27, 28, 29, 30, 31, 32, 33, 34,\n",
       "       35, 36, 37, 38, 39, 40, 41, 42, 43, 44, 45, 46, 47, 48, 49, 50])"
      ]
     },
     "execution_count": 94,
     "metadata": {},
     "output_type": "execute_result"
    }
   ],
   "source": [
    "list_f\n",
    "np.array(list_f)"
   ]
  },
  {
   "cell_type": "code",
   "execution_count": 95,
   "id": "e9b0a188",
   "metadata": {},
   "outputs": [
    {
     "data": {
      "text/plain": [
       "array([ 1,  2,  3,  4,  5,  6,  7,  8,  9, 10, 11, 12, 13, 14, 15, 16, 17,\n",
       "       18, 19, 20, 21, 22, 23, 24, 25, 26, 27, 28, 29, 30, 31, 32, 33, 34,\n",
       "       35, 36, 37, 38, 39, 40, 41, 42, 43, 44, 45, 46, 47, 48, 49, 50])"
      ]
     },
     "execution_count": 95,
     "metadata": {},
     "output_type": "execute_result"
    }
   ],
   "source": [
    "#순차적으로 증가하거나 감소하는 배열을 생성\n",
    "#arange(시작,끝+1,증감값)\n",
    "np.arange(1,51)"
   ]
  },
  {
   "cell_type": "code",
   "execution_count": 96,
   "id": "7af56753",
   "metadata": {},
   "outputs": [
    {
     "data": {
      "text/plain": [
       "array([ 1,  5,  9, 13, 17, 21, 25, 29, 33, 37, 41, 45, 49])"
      ]
     },
     "execution_count": 96,
     "metadata": {},
     "output_type": "execute_result"
    }
   ],
   "source": [
    "# 1부터 51까지 4씩 증가하는 배열\n",
    "np.arange(1,52,4)"
   ]
  },
  {
   "cell_type": "markdown",
   "id": "75f356a6",
   "metadata": {},
   "source": [
    "- 랜덤값으로 초기화 하면서 생성\n"
   ]
  },
  {
   "cell_type": "code",
   "execution_count": 108,
   "id": "112a9a1c",
   "metadata": {},
   "outputs": [
    {
     "data": {
      "text/plain": [
       "array([[36, 23, 16],\n",
       "       [15, 14,  6]])"
      ]
     },
     "execution_count": 108,
     "metadata": {},
     "output_type": "execute_result"
    }
   ],
   "source": [
    "#np.random.randint(시작값, 끝값+1, size=(배열의 크기(행,열)))\n",
    "np.random.randint(1,51,size = (2,3))# 2행 3열"
   ]
  },
  {
   "cell_type": "code",
   "execution_count": 123,
   "id": "5e94d23c",
   "metadata": {},
   "outputs": [
    {
     "data": {
      "text/plain": [
       "array([[ 1,  2,  3,  4,  5,  6,  7,  8,  9, 10],\n",
       "       [11, 12, 13, 14, 15, 16, 17, 18, 19, 20],\n",
       "       [21, 22, 23, 24, 25, 26, 27, 28, 29, 30],\n",
       "       [31, 32, 33, 34, 35, 36, 37, 38, 39, 40],\n",
       "       [41, 42, 43, 44, 45, 46, 47, 48, 49, 50]])"
      ]
     },
     "execution_count": 123,
     "metadata": {},
     "output_type": "execute_result"
    }
   ],
   "source": [
    "# 스스로 1차원 배열 1~50까지 출력\n",
    "np.arange(1,51)\n",
    "# 2차원 배열로 (5행10열) .reshape(행,열)\n",
    "arr_2 = np.arange(1,51).reshape(5,10)\n",
    "arr_2"
   ]
  },
  {
   "cell_type": "code",
   "execution_count": 111,
   "id": "685f1a59",
   "metadata": {},
   "outputs": [],
   "source": [
    "#arr_2에서 15,16,17 가져오기"
   ]
  },
  {
   "cell_type": "code",
   "execution_count": 118,
   "id": "b6759ee9",
   "metadata": {},
   "outputs": [
    {
     "data": {
      "text/plain": [
       "array([15, 16, 17])"
      ]
     },
     "execution_count": 118,
     "metadata": {},
     "output_type": "execute_result"
    }
   ],
   "source": [
    "arr_2[1,4:7] #[행,열]"
   ]
  },
  {
   "cell_type": "code",
   "execution_count": null,
   "id": "e22debbb",
   "metadata": {},
   "outputs": [],
   "source": [
    "# 전체 행의 0열만 가져오기 "
   ]
  },
  {
   "cell_type": "code",
   "execution_count": 119,
   "id": "9b87ee1c",
   "metadata": {},
   "outputs": [
    {
     "data": {
      "text/plain": [
       "11"
      ]
     },
     "execution_count": 119,
     "metadata": {},
     "output_type": "execute_result"
    }
   ],
   "source": [
    "arr_2[1][0]"
   ]
  },
  {
   "cell_type": "code",
   "execution_count": 135,
   "id": "96d08b75",
   "metadata": {},
   "outputs": [
    {
     "data": {
      "text/plain": [
       "array([ 1, 11, 21, 31, 41])"
      ]
     },
     "execution_count": 135,
     "metadata": {},
     "output_type": "execute_result"
    }
   ],
   "source": [
    "arr_2[0:5,0] # 전체를 가져오는 기호 :\n",
    "arr_2[:,0]"
   ]
  },
  {
   "cell_type": "code",
   "execution_count": 137,
   "id": "c41dbf30",
   "metadata": {},
   "outputs": [
    {
     "data": {
      "text/plain": [
       "array([21, 22, 23, 24, 25, 26, 27, 28, 29, 30])"
      ]
     },
     "execution_count": 137,
     "metadata": {},
     "output_type": "execute_result"
    }
   ],
   "source": [
    "#3행의 전체 열을 출력\n",
    "arr_2[2]"
   ]
  },
  {
   "cell_type": "code",
   "execution_count": 163,
   "id": "61567ef4",
   "metadata": {},
   "outputs": [
    {
     "data": {
      "text/plain": [
       "array([22, 33])"
      ]
     },
     "execution_count": 163,
     "metadata": {},
     "output_type": "execute_result"
    }
   ],
   "source": [
    "#22,23 출력 \n",
    "arr_2[[2,3],[1,2]]\n",
    "#[[행],[열]]\n",
    "#[[행1,행2,행3],[열1,열2,열3]]"
   ]
  },
  {
   "cell_type": "markdown",
   "id": "34ad7954",
   "metadata": {},
   "source": [
    "### 불리언 색인(인덱싱)\n",
    "- 조건에 해당하는(True) 값들만 출력할때 사용\n",
    "- 내가 찾고자하는 원본데이터 [조건식]- 조건식안에는 불리언 형태여야함(true/false)"
   ]
  },
  {
   "cell_type": "code",
   "execution_count": 164,
   "id": "b5071819",
   "metadata": {},
   "outputs": [
    {
     "data": {
      "text/plain": [
       "array([65, 90, 70, 80, 55])"
      ]
     },
     "execution_count": 164,
     "metadata": {},
     "output_type": "execute_result"
    }
   ],
   "source": [
    "# 임의의 점수데이터\n",
    "score = np.array([65,90,70,80,55])\n",
    "score"
   ]
  },
  {
   "cell_type": "code",
   "execution_count": 165,
   "id": "d9780013",
   "metadata": {},
   "outputs": [
    {
     "data": {
      "text/plain": [
       "array([False,  True,  True,  True, False])"
      ]
     },
     "execution_count": 165,
     "metadata": {},
     "output_type": "execute_result"
    }
   ],
   "source": [
    "#현재는 논리연산의 결과 \n",
    "score>=70"
   ]
  },
  {
   "cell_type": "code",
   "execution_count": 168,
   "id": "905a33fe",
   "metadata": {},
   "outputs": [
    {
     "data": {
      "text/plain": [
       "array([90, 70, 80])"
      ]
     },
     "execution_count": 168,
     "metadata": {},
     "output_type": "execute_result"
    }
   ],
   "source": [
    "# 논리연산이 참인 값들만 가져온다 \n",
    "score[score>=70]"
   ]
  },
  {
   "cell_type": "code",
   "execution_count": 169,
   "id": "4a9d367c",
   "metadata": {},
   "outputs": [
    {
     "data": {
      "text/plain": [
       "array(['주희', '진영', '진이', '현성', '준기'], dtype='<U2')"
      ]
     },
     "execution_count": 169,
     "metadata": {},
     "output_type": "execute_result"
    }
   ],
   "source": [
    "# 이름 데이터\n",
    "name = np.array(['주희','진영','진이','현성','준기'])\n",
    "name"
   ]
  },
  {
   "cell_type": "code",
   "execution_count": 170,
   "id": "0c1ee1b4",
   "metadata": {},
   "outputs": [
    {
     "data": {
      "text/plain": [
       "array(['진영', '진이', '현성'], dtype='<U2')"
      ]
     },
     "execution_count": 170,
     "metadata": {},
     "output_type": "execute_result"
    }
   ],
   "source": [
    "name[score>=70]"
   ]
  },
  {
   "cell_type": "markdown",
   "id": "b0f5b1d5",
   "metadata": {},
   "source": [
    "### 범용함수\n",
    "- 넘파이에서 제공해주는 함수"
   ]
  },
  {
   "cell_type": "code",
   "execution_count": 180,
   "id": "b9733f7c",
   "metadata": {},
   "outputs": [
    {
     "name": "stdout",
     "output_type": "stream",
     "text": [
      "31\n"
     ]
    }
   ],
   "source": [
    "# sum()\n",
    "arr= np.random.randint(0,10,size = (2,5))\n",
    "arr\n",
    "print(np.sum(arr))"
   ]
  },
  {
   "cell_type": "code",
   "execution_count": 182,
   "id": "811bb591",
   "metadata": {},
   "outputs": [
    {
     "data": {
      "text/plain": [
       "3.1"
      ]
     },
     "execution_count": 182,
     "metadata": {},
     "output_type": "execute_result"
    }
   ],
   "source": [
    "# mean() ---> 평균값을 구해주는 함수 \n",
    "np.mean(arr)"
   ]
  },
  {
   "cell_type": "code",
   "execution_count": 183,
   "id": "0511a79d",
   "metadata": {},
   "outputs": [
    {
     "data": {
      "text/plain": [
       "array([1., 2., 3., 4., 5.])"
      ]
     },
     "execution_count": 183,
     "metadata": {},
     "output_type": "execute_result"
    }
   ],
   "source": [
    "# sqrt() ---> 제곱근을 구해주는 함수\n",
    "arr1 = np.array([1,4,9,16,25])\n",
    "np.sqrt(arr1)"
   ]
  },
  {
   "cell_type": "code",
   "execution_count": 185,
   "id": "eecbd25c",
   "metadata": {},
   "outputs": [
    {
     "data": {
      "text/plain": [
       "array([5, 8, 5, 1, 2, 6])"
      ]
     },
     "execution_count": 185,
     "metadata": {},
     "output_type": "execute_result"
    }
   ],
   "source": [
    "# abs --> 절대값을 구해주는 함수\n",
    "arr2 = np.array([-5,-8,5,1,2,-6])\n",
    "np.abs(arr2)"
   ]
  },
  {
   "cell_type": "code",
   "execution_count": null,
   "id": "c587839d",
   "metadata": {},
   "outputs": [],
   "source": []
  },
  {
   "cell_type": "code",
   "execution_count": null,
   "id": "e7fbdf5e",
   "metadata": {},
   "outputs": [],
   "source": []
  }
 ],
 "metadata": {
  "kernelspec": {
   "display_name": "Python 3 (ipykernel)",
   "language": "python",
   "name": "python3"
  },
  "language_info": {
   "codemirror_mode": {
    "name": "ipython",
    "version": 3
   },
   "file_extension": ".py",
   "mimetype": "text/x-python",
   "name": "python",
   "nbconvert_exporter": "python",
   "pygments_lexer": "ipython3",
   "version": "3.9.12"
  }
 },
 "nbformat": 4,
 "nbformat_minor": 5
}
