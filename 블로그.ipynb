{
 "cells": [
  {
   "cell_type": "markdown",
   "id": "54b7aeca",
   "metadata": {},
   "source": [
    "## 이미지 로딩"
   ]
  },
  {
   "cell_type": "code",
   "execution_count": 14,
   "id": "ee33260e",
   "metadata": {},
   "outputs": [],
   "source": [
    "import cv2\n",
    "\n",
    "img = cv2.imread('data/ec.jpg')\n",
    "\n",
    "cv2.imshow('ec',img)\n",
    "cv2.waitKey()\n",
    "cv2.destroyAllWindows()"
   ]
  },
  {
   "cell_type": "markdown",
   "id": "3ff5f13c",
   "metadata": {},
   "source": [
    "## 이진 이미지 만들기\n",
    "- 픽셀값이 0, 255만 존재\n",
    "- 흑백 사진이기때문에 GrayScale로 받아온다"
   ]
  },
  {
   "cell_type": "code",
   "execution_count": 10,
   "id": "b9db2e72",
   "metadata": {},
   "outputs": [
    {
     "name": "stdout",
     "output_type": "stream",
     "text": [
      "127.0\n"
     ]
    }
   ],
   "source": [
    "import cv2 \n",
    "img = cv2.imread('data/ec.jpg',cv2.IMREAD_GRAYSCALE)\n",
    "\n",
    "ret, thr1 = cv2.threshold(img,127,255,cv2.THRESH_BINARY)\n",
    "\n",
    "print(ret)\n",
    "\n",
    "cv2.imshow('gray',thr1)\n",
    "cv2.waitKey(0)\n",
    "cv2.destroyAllWindows()"
   ]
  },
  {
   "cell_type": "markdown",
   "id": "d6fc713e",
   "metadata": {},
   "source": [
    "## 동영상 출력하기\n",
    "- 동영상 출력하기\n",
    "- 캡쳐하기\n",
    "- 녹화하기"
   ]
  },
  {
   "cell_type": "code",
   "execution_count": 15,
   "id": "2873f95b",
   "metadata": {},
   "outputs": [
    {
     "name": "stdout",
     "output_type": "stream",
     "text": [
      "이미지를 불러오지 못했습니다.\n"
     ]
    }
   ],
   "source": [
    "import cv2\n",
    "\n",
    "# 동영상을 이미지로 잘라서 가져온 상태 \n",
    "cap = cv2.VideoCapture('data/video.mp4')\n",
    "\n",
    "while True:\n",
    "    # 동영상에서 이미지 한장씩 읽어오기\n",
    "    # ret > 사진 가져오면 True, 못가져오면 False\n",
    "    # frame = 이미지 한장 \n",
    "    ret, frame = cap.read()\n",
    "    \n",
    "    if not ret :\n",
    "        print('이미지를 불러오지 못했습니다.')\n",
    "        cap.release()\n",
    "        cv2.destroyAllWindows()\n",
    "        break\n",
    "        \n",
    "    cv2.imshow('video', frame)\n",
    "    cv2.waitKey(33)\n",
    "        "
   ]
  },
  {
   "cell_type": "code",
   "execution_count": null,
   "id": "163bde35",
   "metadata": {},
   "outputs": [],
   "source": [
    "import cv2\n",
    "\n",
    "cap = cv2.VideoCapture('data/video.mp4')\n",
    "count = 0 # 파일 이름 인덱스\n",
    "\n",
    "# 비디오 객체 생성\n",
    "fps = 30 # 초당 30장의 이미지 저장\n",
    "w =int(cap.get(3)) # 이미지의 가로크기\n",
    "h = int(cap.get(4)) # 이미지의 세로크기\n",
    "fcc = cv2.VideoWriter_fourcc(*\"MPEG\") # mp4용 코덱 \n",
    "\n",
    "out = cv2.VideoWriter('data/cap_videoaa.mp4',fcc,fps(w,h))\n",
    "# out 객체에 넣어주면 동영상 완성! \n",
    "                       "
   ]
  },
  {
   "cell_type": "code",
   "execution_count": 29,
   "id": "05fe16e4",
   "metadata": {},
   "outputs": [
    {
     "name": "stdout",
     "output_type": "stream",
     "text": [
      "숫자 1번 종료합니다\n"
     ]
    }
   ],
   "source": [
    "import cv2\n",
    "\n",
    "cap = cv2.VideoCapture('data/video.mp4')\n",
    "count1 = 0\n",
    "\n",
    "# 비디오 객체 생성\n",
    "fps = 30 # 초당 30초의 이미지 저장\n",
    "w = int(cap.get(3)) # 이미지의 가로크기\n",
    "h = int(cap.get(4)) # 이미지의 세로크기\n",
    "fcc = cv2.VideoWriter_fourcc(*\"MPEG\") # mp4용 코덱 \n",
    "\n",
    "out = cv2.VideoWriter('data/cap_video1.mp4',fcc,fps,(w,h))\n",
    "# out 객체에 사진을 넣어주면 동영상 완성! \n",
    "\n",
    "# 녹화여부 \n",
    "record = False \n",
    "\n",
    "while True :\n",
    "    ret, frame = cap.read()\n",
    "    \n",
    "    if not ret :\n",
    "        print('이미지 불러오기 실패')\n",
    "        cap.release() # 비디오 객체 종료\n",
    "        cv2.destroyAllWindows()\n",
    "        break\n",
    "        \n",
    "    cv2.imshow('video', frame)\n",
    "    \n",
    "    # k변수에는 키보드로 입력한 값이 저장\n",
    "    k = cv2.waitKey(33)\n",
    "    \n",
    "    # 종료 기능 만들기\n",
    "    if k == 49:\n",
    "        print('숫자 1번 종료합니다')\n",
    "        cap.release()\n",
    "        cv2.destroyAllWindows()\n",
    "        break\n",
    "        \n",
    "    # 캡쳐 기능 만들기\n",
    "    if k == 50:\n",
    "        print(f'숫자 2번 data/cap{count1}.jpg 사진을 저장합니다.')\n",
    "        cv2.imwrite(f'data/cap{count}.jpg',frame,params=[cv2.IMWRITE_JPEG_PROGRESSIVE,0])\n",
    "        count+=1\n",
    "        \n",
    "    # 녹화 기능 만들기 -> 비디오 객체 생성 \n",
    "    if k == 51:\n",
    "            print('숫자 3번 녹화 시작')\n",
    "            record = True\n",
    "    if k == 52:\n",
    "            print('숫자 4번 녹화 종료')\n",
    "            record = False\n",
    "            out.release()"
   ]
  },
  {
   "cell_type": "markdown",
   "id": "a1357017",
   "metadata": {},
   "source": [
    "## 침식과 팽창"
   ]
  },
  {
   "cell_type": "code",
   "execution_count": 33,
   "id": "080c2421",
   "metadata": {},
   "outputs": [],
   "source": [
    "import cv2 \n",
    "import numpy as np\n",
    "\n",
    "img = cv2.imread('data/number.png',cv2.IMREAD_GRAYSCALE)\n",
    "\n",
    "kernel = np.ones((3,3),np.float32)\n",
    "\n",
    "erosion = cv2.erode(img,kernel,iterations=1)\n",
    "dilation = cv2.dilate(img,kernel, iterations=1)\n",
    "\n",
    "cv2.imshow('original',img)\n",
    "cv2.imshow('erosion',erosion)\n",
    "cv2.imshow('dilation',dilation)\n",
    "\n",
    "cv2.waitKey(0)\n",
    "cv2.destroyAllWindows()"
   ]
  },
  {
   "cell_type": "code",
   "execution_count": null,
   "id": "37d325df",
   "metadata": {},
   "outputs": [],
   "source": []
  },
  {
   "cell_type": "code",
   "execution_count": null,
   "id": "dfd1df15",
   "metadata": {},
   "outputs": [],
   "source": []
  }
 ],
 "metadata": {
  "kernelspec": {
   "display_name": "Python 3 (ipykernel)",
   "language": "python",
   "name": "python3"
  },
  "language_info": {
   "codemirror_mode": {
    "name": "ipython",
    "version": 3
   },
   "file_extension": ".py",
   "mimetype": "text/x-python",
   "name": "python",
   "nbconvert_exporter": "python",
   "pygments_lexer": "ipython3",
   "version": "3.8.15"
  }
 },
 "nbformat": 4,
 "nbformat_minor": 5
}
