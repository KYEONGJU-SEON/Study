{
 "cells": [
  {
   "cell_type": "markdown",
   "id": "0c5eb0b2",
   "metadata": {},
   "source": [
    "## Selenium 모델\n",
    "- 웹페이지 제어하기 위한 모듈\n",
    "- !pip install selenium"
   ]
  },
  {
   "cell_type": "code",
   "execution_count": 1,
   "id": "cc6ce4d6",
   "metadata": {
    "collapsed": true
   },
   "outputs": [
    {
     "name": "stdout",
     "output_type": "stream",
     "text": [
      "Requirement already satisfied: selenium in c:\\users\\smhrd\\anaconda3\\lib\\site-packages (4.4.3)\n",
      "Requirement already satisfied: trio-websocket~=0.9 in c:\\users\\smhrd\\anaconda3\\lib\\site-packages (from selenium) (0.9.2)\n",
      "Requirement already satisfied: urllib3[socks]~=1.26 in c:\\users\\smhrd\\anaconda3\\lib\\site-packages (from selenium) (1.26.9)\n",
      "Requirement already satisfied: trio~=0.17 in c:\\users\\smhrd\\anaconda3\\lib\\site-packages (from selenium) (0.21.0)\n",
      "Requirement already satisfied: certifi>=2021.10.8 in c:\\users\\smhrd\\anaconda3\\lib\\site-packages (from selenium) (2021.10.8)\n",
      "Requirement already satisfied: async-generator>=1.9 in c:\\users\\smhrd\\anaconda3\\lib\\site-packages (from trio~=0.17->selenium) (1.10)\n",
      "Requirement already satisfied: outcome in c:\\users\\smhrd\\anaconda3\\lib\\site-packages (from trio~=0.17->selenium) (1.2.0)\n",
      "Requirement already satisfied: cffi>=1.14 in c:\\users\\smhrd\\anaconda3\\lib\\site-packages (from trio~=0.17->selenium) (1.15.0)\n",
      "Requirement already satisfied: sniffio in c:\\users\\smhrd\\anaconda3\\lib\\site-packages (from trio~=0.17->selenium) (1.2.0)\n",
      "Requirement already satisfied: sortedcontainers in c:\\users\\smhrd\\anaconda3\\lib\\site-packages (from trio~=0.17->selenium) (2.4.0)\n",
      "Requirement already satisfied: idna in c:\\users\\smhrd\\anaconda3\\lib\\site-packages (from trio~=0.17->selenium) (3.3)\n",
      "Requirement already satisfied: attrs>=19.2.0 in c:\\users\\smhrd\\anaconda3\\lib\\site-packages (from trio~=0.17->selenium) (21.4.0)\n",
      "Requirement already satisfied: pycparser in c:\\users\\smhrd\\anaconda3\\lib\\site-packages (from cffi>=1.14->trio~=0.17->selenium) (2.21)\n",
      "Requirement already satisfied: wsproto>=0.14 in c:\\users\\smhrd\\anaconda3\\lib\\site-packages (from trio-websocket~=0.9->selenium) (1.2.0)\n",
      "Requirement already satisfied: PySocks!=1.5.7,<2.0,>=1.5.6 in c:\\users\\smhrd\\anaconda3\\lib\\site-packages (from urllib3[socks]~=1.26->selenium) (1.7.1)\n",
      "Requirement already satisfied: h11<1,>=0.9.0 in c:\\users\\smhrd\\anaconda3\\lib\\site-packages (from wsproto>=0.14->trio-websocket~=0.9->selenium) (0.13.0)\n"
     ]
    }
   ],
   "source": [
    "!pip install selenium"
   ]
  },
  {
   "cell_type": "markdown",
   "id": "f98dcca2",
   "metadata": {},
   "source": [
    "## Selenium  모델\n",
    "- 웹 브라우저를 자동으로 제어하기 위한 라이브러리\n",
    "- 브라우저 띄우는 것부터 제어 -> requests 가 필요없음\n",
    "- webdriver : 브라우저 역할(requests와 비슷)\n",
    "- keys : 컴퓨터에서 키보드 역할\n",
    "- By : 선택자를 선택하는 역할"
   ]
  },
  {
   "cell_type": "code",
   "execution_count": 45,
   "id": "0dcf6cc7",
   "metadata": {},
   "outputs": [],
   "source": [
    "from selenium import webdriver as wb\n",
    "from selenium.webdriver.common.keys import Keys\n",
    "from selenium.webdriver.common.by import By\n",
    "import time\n",
    "import pandas as pd\n",
    "from bs4 import BeautifulSoup as bs"
   ]
  },
  {
   "cell_type": "code",
   "execution_count": 10,
   "id": "b2baf6b7",
   "metadata": {},
   "outputs": [],
   "source": [
    "#1 크롬창 열기(크롬드라이버설치0744)\n",
    "# wb.Chrome(\"크롬드라이버경로/chromedriver.exe\")\n",
    "# 같은경로에 있을 경우 생략이 가능하다 \n",
    "driver = wb.Chrome()"
   ]
  },
  {
   "cell_type": "code",
   "execution_count": 11,
   "id": "f473e5af",
   "metadata": {},
   "outputs": [],
   "source": [
    "driver.get(\"http://www.naver.com\")"
   ]
  },
  {
   "cell_type": "code",
   "execution_count": 19,
   "id": "43eec816",
   "metadata": {},
   "outputs": [],
   "source": [
    "search = driver.find_element(By.ID,'query')"
   ]
  },
  {
   "cell_type": "code",
   "execution_count": 20,
   "id": "28f71851",
   "metadata": {},
   "outputs": [],
   "source": [
    "# send_keys(\"전달값\") - 값을 전달하는 명령\n",
    "search.send_keys('광주날씨')"
   ]
  },
  {
   "cell_type": "code",
   "execution_count": 21,
   "id": "8ce5f795",
   "metadata": {},
   "outputs": [],
   "source": [
    "# Enter키 입력\n",
    "search.send_keys(Keys.ENTER)"
   ]
  },
  {
   "cell_type": "code",
   "execution_count": 17,
   "id": "979de900",
   "metadata": {},
   "outputs": [],
   "source": [
    "#페이지 뒤로가기 \n",
    "driver.back()"
   ]
  },
  {
   "cell_type": "code",
   "execution_count": 26,
   "id": "cafcea70",
   "metadata": {
    "collapsed": true
   },
   "outputs": [
    {
     "ename": "ElementNotInteractableException",
     "evalue": "Message: element not interactable\n  (Session info: chrome=106.0.5249.91)\nStacktrace:\nBacktrace:\n\tOrdinal0 [0x010D1ED3+2236115]\n\tOrdinal0 [0x010692F1+1807089]\n\tOrdinal0 [0x00F765C0+812480]\n\tOrdinal0 [0x00FA0C0E+986126]\n\tOrdinal0 [0x00FA031D+983837]\n\tOrdinal0 [0x00FC1A8C+1120908]\n\tOrdinal0 [0x00F9BD84+966020]\n\tOrdinal0 [0x00FC1CA4+1121444]\n\tOrdinal0 [0x00FD59E2+1202658]\n\tOrdinal0 [0x00FC18A6+1120422]\n\tOrdinal0 [0x00F9A73D+960317]\n\tOrdinal0 [0x00F9B71F+964383]\n\tGetHandleVerifier [0x0137E7E2+2743074]\n\tGetHandleVerifier [0x013708D4+2685972]\n\tGetHandleVerifier [0x01162BAA+532202]\n\tGetHandleVerifier [0x01161990+527568]\n\tOrdinal0 [0x0107080C+1837068]\n\tOrdinal0 [0x01074CD8+1854680]\n\tOrdinal0 [0x01074DC5+1854917]\n\tOrdinal0 [0x0107ED64+1895780]\n\tBaseThreadInitThunk [0x7798FA29+25]\n\tRtlGetAppContainerNamedObjectPath [0x77E67B5E+286]\n\tRtlGetAppContainerNamedObjectPath [0x77E67B2E+238]\n",
     "output_type": "error",
     "traceback": [
      "\u001b[1;31m---------------------------------------------------------------------------\u001b[0m",
      "\u001b[1;31mElementNotInteractableException\u001b[0m           Traceback (most recent call last)",
      "Input \u001b[1;32mIn [26]\u001b[0m, in \u001b[0;36m<cell line: 3>\u001b[1;34m()\u001b[0m\n\u001b[0;32m      1\u001b[0m \u001b[38;5;66;03m#화면이 바귀면 요소를 매번 새로 탐색해야한다\u001b[39;00m\n\u001b[0;32m      2\u001b[0m search \u001b[38;5;241m=\u001b[39m driver\u001b[38;5;241m.\u001b[39mfind_element(By\u001b[38;5;241m.\u001b[39mID,\u001b[38;5;124m'\u001b[39m\u001b[38;5;124mquery\u001b[39m\u001b[38;5;124m'\u001b[39m)\n\u001b[1;32m----> 3\u001b[0m \u001b[43msearch\u001b[49m\u001b[38;5;241;43m.\u001b[39;49m\u001b[43msend_keys\u001b[49m\u001b[43m(\u001b[49m\u001b[38;5;124;43m\"\u001b[39;49m\u001b[38;5;124;43m서울날씨\u001b[39;49m\u001b[38;5;124;43m\"\u001b[39;49m\u001b[43m)\u001b[49m\n\u001b[0;32m      4\u001b[0m btn \u001b[38;5;241m=\u001b[39m driver\u001b[38;5;241m.\u001b[39mfind_element(By\u001b[38;5;241m.\u001b[39mID,\u001b[38;5;124m'\u001b[39m\u001b[38;5;124msearch_btn\u001b[39m\u001b[38;5;124m'\u001b[39m)\n\u001b[0;32m      5\u001b[0m btn\u001b[38;5;241m.\u001b[39mclick()\n",
      "File \u001b[1;32m~\\anaconda3\\lib\\site-packages\\selenium\\webdriver\\remote\\webelement.py:223\u001b[0m, in \u001b[0;36mWebElement.send_keys\u001b[1;34m(self, *value)\u001b[0m\n\u001b[0;32m    220\u001b[0m             remote_files\u001b[38;5;241m.\u001b[39mappend(\u001b[38;5;28mself\u001b[39m\u001b[38;5;241m.\u001b[39m_upload(file))\n\u001b[0;32m    221\u001b[0m         value \u001b[38;5;241m=\u001b[39m \u001b[38;5;124m'\u001b[39m\u001b[38;5;130;01m\\n\u001b[39;00m\u001b[38;5;124m'\u001b[39m\u001b[38;5;241m.\u001b[39mjoin(remote_files)\n\u001b[1;32m--> 223\u001b[0m \u001b[38;5;28;43mself\u001b[39;49m\u001b[38;5;241;43m.\u001b[39;49m\u001b[43m_execute\u001b[49m\u001b[43m(\u001b[49m\u001b[43mCommand\u001b[49m\u001b[38;5;241;43m.\u001b[39;49m\u001b[43mSEND_KEYS_TO_ELEMENT\u001b[49m\u001b[43m,\u001b[49m\n\u001b[0;32m    224\u001b[0m \u001b[43m              \u001b[49m\u001b[43m{\u001b[49m\u001b[38;5;124;43m'\u001b[39;49m\u001b[38;5;124;43mtext\u001b[39;49m\u001b[38;5;124;43m'\u001b[39;49m\u001b[43m:\u001b[49m\u001b[43m \u001b[49m\u001b[38;5;124;43m\"\u001b[39;49m\u001b[38;5;124;43m\"\u001b[39;49m\u001b[38;5;241;43m.\u001b[39;49m\u001b[43mjoin\u001b[49m\u001b[43m(\u001b[49m\u001b[43mkeys_to_typing\u001b[49m\u001b[43m(\u001b[49m\u001b[43mvalue\u001b[49m\u001b[43m)\u001b[49m\u001b[43m)\u001b[49m\u001b[43m,\u001b[49m\n\u001b[0;32m    225\u001b[0m \u001b[43m               \u001b[49m\u001b[38;5;124;43m'\u001b[39;49m\u001b[38;5;124;43mvalue\u001b[39;49m\u001b[38;5;124;43m'\u001b[39;49m\u001b[43m:\u001b[49m\u001b[43m \u001b[49m\u001b[43mkeys_to_typing\u001b[49m\u001b[43m(\u001b[49m\u001b[43mvalue\u001b[49m\u001b[43m)\u001b[49m\u001b[43m}\u001b[49m\u001b[43m)\u001b[49m\n",
      "File \u001b[1;32m~\\anaconda3\\lib\\site-packages\\selenium\\webdriver\\remote\\webelement.py:396\u001b[0m, in \u001b[0;36mWebElement._execute\u001b[1;34m(self, command, params)\u001b[0m\n\u001b[0;32m    394\u001b[0m     params \u001b[38;5;241m=\u001b[39m {}\n\u001b[0;32m    395\u001b[0m params[\u001b[38;5;124m'\u001b[39m\u001b[38;5;124mid\u001b[39m\u001b[38;5;124m'\u001b[39m] \u001b[38;5;241m=\u001b[39m \u001b[38;5;28mself\u001b[39m\u001b[38;5;241m.\u001b[39m_id\n\u001b[1;32m--> 396\u001b[0m \u001b[38;5;28;01mreturn\u001b[39;00m \u001b[38;5;28;43mself\u001b[39;49m\u001b[38;5;241;43m.\u001b[39;49m\u001b[43m_parent\u001b[49m\u001b[38;5;241;43m.\u001b[39;49m\u001b[43mexecute\u001b[49m\u001b[43m(\u001b[49m\u001b[43mcommand\u001b[49m\u001b[43m,\u001b[49m\u001b[43m \u001b[49m\u001b[43mparams\u001b[49m\u001b[43m)\u001b[49m\n",
      "File \u001b[1;32m~\\anaconda3\\lib\\site-packages\\selenium\\webdriver\\remote\\webdriver.py:428\u001b[0m, in \u001b[0;36mWebDriver.execute\u001b[1;34m(self, driver_command, params)\u001b[0m\n\u001b[0;32m    426\u001b[0m response \u001b[38;5;241m=\u001b[39m \u001b[38;5;28mself\u001b[39m\u001b[38;5;241m.\u001b[39mcommand_executor\u001b[38;5;241m.\u001b[39mexecute(driver_command, params)\n\u001b[0;32m    427\u001b[0m \u001b[38;5;28;01mif\u001b[39;00m response:\n\u001b[1;32m--> 428\u001b[0m     \u001b[38;5;28;43mself\u001b[39;49m\u001b[38;5;241;43m.\u001b[39;49m\u001b[43merror_handler\u001b[49m\u001b[38;5;241;43m.\u001b[39;49m\u001b[43mcheck_response\u001b[49m\u001b[43m(\u001b[49m\u001b[43mresponse\u001b[49m\u001b[43m)\u001b[49m\n\u001b[0;32m    429\u001b[0m     response[\u001b[38;5;124m'\u001b[39m\u001b[38;5;124mvalue\u001b[39m\u001b[38;5;124m'\u001b[39m] \u001b[38;5;241m=\u001b[39m \u001b[38;5;28mself\u001b[39m\u001b[38;5;241m.\u001b[39m_unwrap_value(\n\u001b[0;32m    430\u001b[0m         response\u001b[38;5;241m.\u001b[39mget(\u001b[38;5;124m'\u001b[39m\u001b[38;5;124mvalue\u001b[39m\u001b[38;5;124m'\u001b[39m, \u001b[38;5;28;01mNone\u001b[39;00m))\n\u001b[0;32m    431\u001b[0m     \u001b[38;5;28;01mreturn\u001b[39;00m response\n",
      "File \u001b[1;32m~\\anaconda3\\lib\\site-packages\\selenium\\webdriver\\remote\\errorhandler.py:243\u001b[0m, in \u001b[0;36mErrorHandler.check_response\u001b[1;34m(self, response)\u001b[0m\n\u001b[0;32m    241\u001b[0m         alert_text \u001b[38;5;241m=\u001b[39m value[\u001b[38;5;124m'\u001b[39m\u001b[38;5;124malert\u001b[39m\u001b[38;5;124m'\u001b[39m]\u001b[38;5;241m.\u001b[39mget(\u001b[38;5;124m'\u001b[39m\u001b[38;5;124mtext\u001b[39m\u001b[38;5;124m'\u001b[39m)\n\u001b[0;32m    242\u001b[0m     \u001b[38;5;28;01mraise\u001b[39;00m exception_class(message, screen, stacktrace, alert_text)  \u001b[38;5;66;03m# type: ignore[call-arg]  # mypy is not smart enough here\u001b[39;00m\n\u001b[1;32m--> 243\u001b[0m \u001b[38;5;28;01mraise\u001b[39;00m exception_class(message, screen, stacktrace)\n",
      "\u001b[1;31mElementNotInteractableException\u001b[0m: Message: element not interactable\n  (Session info: chrome=106.0.5249.91)\nStacktrace:\nBacktrace:\n\tOrdinal0 [0x010D1ED3+2236115]\n\tOrdinal0 [0x010692F1+1807089]\n\tOrdinal0 [0x00F765C0+812480]\n\tOrdinal0 [0x00FA0C0E+986126]\n\tOrdinal0 [0x00FA031D+983837]\n\tOrdinal0 [0x00FC1A8C+1120908]\n\tOrdinal0 [0x00F9BD84+966020]\n\tOrdinal0 [0x00FC1CA4+1121444]\n\tOrdinal0 [0x00FD59E2+1202658]\n\tOrdinal0 [0x00FC18A6+1120422]\n\tOrdinal0 [0x00F9A73D+960317]\n\tOrdinal0 [0x00F9B71F+964383]\n\tGetHandleVerifier [0x0137E7E2+2743074]\n\tGetHandleVerifier [0x013708D4+2685972]\n\tGetHandleVerifier [0x01162BAA+532202]\n\tGetHandleVerifier [0x01161990+527568]\n\tOrdinal0 [0x0107080C+1837068]\n\tOrdinal0 [0x01074CD8+1854680]\n\tOrdinal0 [0x01074DC5+1854917]\n\tOrdinal0 [0x0107ED64+1895780]\n\tBaseThreadInitThunk [0x7798FA29+25]\n\tRtlGetAppContainerNamedObjectPath [0x77E67B5E+286]\n\tRtlGetAppContainerNamedObjectPath [0x77E67B2E+238]\n"
     ]
    }
   ],
   "source": [
    "#화면이 바귀면 요소를 매번 새로 탐색해야한다\n",
    "search = driver.find_element(By.ID,'query')\n",
    "search.send_keys(\"서울날씨\")\n",
    "btn = driver.find_element(By.ID,'search_btn')\n",
    "btn.click()"
   ]
  },
  {
   "cell_type": "code",
   "execution_count": 27,
   "id": "063fc535",
   "metadata": {},
   "outputs": [],
   "source": [
    "#창을 종료\n",
    "driver.close()"
   ]
  },
  {
   "cell_type": "markdown",
   "id": "bc398097",
   "metadata": {},
   "source": [
    "### find_element()\n",
    "- By.ID : 아이디 선택자 이름\n",
    "- By.CLASS_NAME : 클래스 선택자 이름\n",
    "- By.CSS_SELECTOR : CSS선택자 이름\n",
    "- By.TAG_NAME : 태그를 이용해서 선택"
   ]
  },
  {
   "cell_type": "code",
   "execution_count": 30,
   "id": "fa67e199",
   "metadata": {},
   "outputs": [],
   "source": [
    "# 코로나는 언제 끝나요 입력하고 뒤로가고 창닫기\n",
    "driver = wb.Chrome()\n",
    "driver.get(\"http://www.naver.com\")\n",
    "search= driver.find_element(By.ID,'query')\n",
    "search.send_keys(\"코로나는 언제 끝나요\")\n",
    "search.send_keys(Keys.ENTER)\n",
    "driver.back()\n",
    "driver.close()"
   ]
  },
  {
   "cell_type": "code",
   "execution_count": 41,
   "id": "90650bc7",
   "metadata": {},
   "outputs": [],
   "source": [
    "# 구글링에서 크롤링을 검색하여 결과 페이지를 띄우기\n",
    "#1. 크롬창 띄우기\n",
    "driver = wb.Chrome()\n",
    "#2. 구글 접속\n",
    "driver.get(\"https://www.google.com\")"
   ]
  },
  {
   "cell_type": "code",
   "execution_count": 42,
   "id": "2f754d08",
   "metadata": {},
   "outputs": [],
   "source": [
    "search = driver.find_element(By.CLASS_NAME,'gLFyf.gsfi')"
   ]
  },
  {
   "cell_type": "code",
   "execution_count": 43,
   "id": "d617d8f2",
   "metadata": {},
   "outputs": [],
   "source": [
    "search.send_keys('크롤링')\n",
    "search.send_keys(Keys.ENTER)\n",
    "driver.close()"
   ]
  },
  {
   "cell_type": "markdown",
   "id": "2259df7b",
   "metadata": {},
   "source": [
    "### 웹페이지 스크롤링\n",
    "- Keys.PAGE_DOWN 활용"
   ]
  },
  {
   "cell_type": "code",
   "execution_count": 47,
   "id": "3ff776ae",
   "metadata": {},
   "outputs": [],
   "source": [
    "url = 'https://www.google.com/search?q=%EB%B9%85%EB%8D%B0%EC%9D%B4%ED%84%B0&oq=%EB%B9%85%EB[…]57j0i131i433i512l2j0i512l7.1805j0j15&sourceid=chrome&ie=UTF-8'\n",
    "driver=wb.Chrome()\n",
    "driver.get(url)"
   ]
  },
  {
   "cell_type": "code",
   "execution_count": 49,
   "id": "c7e9db06",
   "metadata": {},
   "outputs": [],
   "source": [
    "#웹페이지를 1번 스크롤링\n",
    "body = driver.find_element(By.TAG_NAME,'body')\n",
    "body.send_keys(Keys.PAGE_DOWN)"
   ]
  },
  {
   "cell_type": "code",
   "execution_count": 50,
   "id": "3758e147",
   "metadata": {},
   "outputs": [
    {
     "data": {
      "text/plain": [
       "<bound method WebDriver.close of <selenium.webdriver.chrome.webdriver.WebDriver (session=\"31383a00c59cd3d196780bf3545d9622\")>>"
      ]
     },
     "execution_count": 50,
     "metadata": {},
     "output_type": "execute_result"
    }
   ],
   "source": [
    "driver.close"
   ]
  },
  {
   "cell_type": "code",
   "execution_count": 51,
   "id": "e34d6bb8",
   "metadata": {},
   "outputs": [],
   "source": [
    "# 3번 스크롤링 하기 \n",
    "# time.sleep(1) : 1초씩 멈춤 \n",
    "driver= wb.Chrome()\n",
    "driver.get(url)\n",
    "body = driver.find_element(By.TAG_NAME,'body')\n",
    "for i in range(3):\n",
    "    body.send_keys(Keys.PAGE_DOWN)\n",
    "    time.sleep(1)"
   ]
  },
  {
   "cell_type": "markdown",
   "id": "970f473a",
   "metadata": {},
   "source": [
    "### 유투브 정보 수집\n",
    "- 영상제목/ 영상주소/조회수"
   ]
  },
  {
   "cell_type": "code",
   "execution_count": 76,
   "id": "4d6118f3",
   "metadata": {},
   "outputs": [],
   "source": [
    "url_main=\"http://www.youtube.com/\"\n",
    "url_sub = \"/results?search_query=\"\n",
    "query= ' 빅데이터'"
   ]
  },
  {
   "cell_type": "code",
   "execution_count": 77,
   "id": "25db7e58",
   "metadata": {},
   "outputs": [],
   "source": [
    "driver = wb.Chrome()\n",
    "driver.get(url_main+url_sub+query)\n",
    "body = driver.find_element(By.TAG_NAME,'body')"
   ]
  },
  {
   "cell_type": "code",
   "execution_count": 78,
   "id": "4c934189",
   "metadata": {
    "scrolled": true
   },
   "outputs": [],
   "source": [
    "for i in range(5):\n",
    "    body.send_keys(Keys.PAGE_DOWN)\n",
    "    time.sleep(1)"
   ]
  },
  {
   "cell_type": "code",
   "execution_count": 79,
   "id": "eaacc774",
   "metadata": {},
   "outputs": [],
   "source": [
    "#driver.page_source API를 이용해 현재 렌더링 된 페이지의 Elements를 모두 가져올 수 있다.    \n",
    "soup = bs(driver.page_source,'lxml')"
   ]
  },
  {
   "cell_type": "code",
   "execution_count": 80,
   "id": "0c8ea64f",
   "metadata": {},
   "outputs": [],
   "source": [
    "title = soup.select(\"h3\")"
   ]
  },
  {
   "cell_type": "code",
   "execution_count": 81,
   "id": "9d448ed8",
   "metadata": {
    "collapsed": true
   },
   "outputs": [
    {
     "name": "stdout",
     "output_type": "stream",
     "text": [
      "\n",
      "\n",
      "빅데이터 - 빅데이터분석\n",
      "r 인강 - 빅 데이터 강의\n",
      "빅데이터는 이것만 기억하면 된다!｜서가명강 - 빅데이터로 성공하기 1강(서울대 산업공학과 조성준 교수) ｜(ENG sub) What is Big Data?\n",
      "[이슈 픽! 쌤과 함께] 빅데이터 전문가 송길영이 말하는 '빅데이터란 무엇인가?' KBS 29291118 방송\n",
      "[시선집중] \"尹 지지율 역대 최저, 빅데이터 긍정평가는 14%, 연관어는 '삭감하다'\" - 배종찬 (인사이트케이 소장) , MBC 221003 방송\n",
      "변화를 빠르게 파악해야 살아남는다❗ 빅데이터 전문가가 꼽은 미래를 이끌 키워드는?｜차이나는 클라스｜JTBC 220724 방송\n",
      "빅 데이터 3분 요약\n",
      "빅데이터란? (What is Big Data?)\n",
      "미래의 석유?! 4차 산업혁명의 핵심 기술, 빅데이터\n",
      "단순히 큰(BIG) 데이터가 아닌 빅데이터! Data Technology에 대해 알아보겠습니다.\n",
      "실생활에 밀접하게 다가온 빅데이터 기술 / YTN 사이언스\n",
      "사주·운세 빅데이터 프로그램으로 본 한동훈의 운세[박찬범 박사]\n",
      "10분으로 알아보는 빅데이터 기술 & 사례들! | 십분AI 마지막 강의\n",
      "대왕 요구르트 등장…빅데이터가 만든 대박상품 / SBS\n",
      "앞으로 2년 실거주로도 사면 안 됩니다 (리치고 김기원)\n",
      "빠르면 내년, 10년만에 큰 기회가 옵니다 (리치고 김기원)\n",
      "AI 이렇게 쉬웠나? 25분만에 끝내는 인공지능 기초와 활용 및 사례 (ㄹㅇ블루오션)\n",
      "다이어리 꾸미기(오리지널 사이즈) | 감성 2스푼 빈티지 1스푼 | 다꾸 | vintage jurnal\n",
      "빅데이터 취업준비 이렇게 하시면 됩니다 | 프로그래밍 언어, 책 추천\n",
      "빅데이터센터 연구원이 말하는 데이터의 중요성\n",
      "빅데이터가 말하는 꿈과 공부의 미래 | 최재원 다음소프트 이사 | 인생 강연 강의 듣기 | 세바시 817회\n",
      "엑셀밖에 모르는 까막눈도 이해하는 빅데이터(f.고영혁 대표)\n",
      "빅데이터 처리 기술 개요\n",
      "[8분 명강] 세상을 읽는 새로운 언어, 빅데이터 - 서울대 산업공학과 조성준 교수\n",
      "최고 전문가에게 듣는 데이터, AI 커리어 완벽 가이드\n",
      "[빅데이터를 아는자, 기회를 잡는다!] 4차 산업혁명의 핵심기술, 빅데이터의 정의\n",
      "\n",
      "\n"
     ]
    }
   ],
   "source": [
    "for i in title :\n",
    "    print(i.text.strip())"
   ]
  },
  {
   "cell_type": "code",
   "execution_count": 82,
   "id": "20f09e94",
   "metadata": {},
   "outputs": [
    {
     "data": {
      "text/plain": [
       "30"
      ]
     },
     "execution_count": 82,
     "metadata": {},
     "output_type": "execute_result"
    }
   ],
   "source": [
    "len(title)"
   ]
  },
  {
   "cell_type": "code",
   "execution_count": 83,
   "id": "182f7240",
   "metadata": {},
   "outputs": [],
   "source": [
    "video_url=soup.find_all('a',id='video-title')[0]['href']"
   ]
  },
  {
   "cell_type": "code",
   "execution_count": 84,
   "id": "732e46c8",
   "metadata": {},
   "outputs": [
    {
     "data": {
      "text/plain": [
       "'http://www.youtube.com//watch?v=PBaUjMgRIx0'"
      ]
     },
     "execution_count": 84,
     "metadata": {},
     "output_type": "execute_result"
    }
   ],
   "source": [
    "url_main+video_url"
   ]
  },
  {
   "cell_type": "code",
   "execution_count": 85,
   "id": "f2f378f7",
   "metadata": {
    "collapsed": true
   },
   "outputs": [
    {
     "name": "stdout",
     "output_type": "stream",
     "text": [
      "영상제목:빅데이터는 이것만 기억하면 된다!｜서가명강 - 빅데이터로 성공하기 1강(서울대 산업공학과 조성준 교수) ｜(ENG sub) What is Big Data?\n",
      "영상주소:http://www.youtube.com//watch?v=PBaUjMgRIx0\n",
      "----------------------------------------------------------------------\n",
      "영상제목:[이슈 픽! 쌤과 함께] 빅데이터 전문가 송길영이 말하는 '빅데이터란 무엇인가?' KBS 29291118 방송\n",
      "영상주소:http://www.youtube.com//watch?v=2A8NelGuWgI\n",
      "----------------------------------------------------------------------\n",
      "영상제목:[시선집중] \"尹 지지율 역대 최저, 빅데이터 긍정평가는 14%, 연관어는 '삭감하다'\" - 배종찬 (인사이트케이 소장) , MBC 221003 방송\n",
      "영상주소:http://www.youtube.com//watch?v=R0nKmZJ-G-Y\n",
      "----------------------------------------------------------------------\n",
      "영상제목:변화를 빠르게 파악해야 살아남는다❗ 빅데이터 전문가가 꼽은 미래를 이끌 키워드는?｜차이나는 클라스｜JTBC 220724 방송\n",
      "영상주소:http://www.youtube.com//watch?v=EdCwsSg8vlw\n",
      "----------------------------------------------------------------------\n",
      "영상제목:빅 데이터 3분 요약\n",
      "영상주소:http://www.youtube.com//watch?v=l2RBzee3Ag4\n",
      "----------------------------------------------------------------------\n",
      "영상제목:빅데이터란? (What is Big Data?)\n",
      "영상주소:http://www.youtube.com//watch?v=6MrCdXBlmqM\n",
      "----------------------------------------------------------------------\n",
      "영상제목:미래의 석유?! 4차 산업혁명의 핵심 기술, 빅데이터\n",
      "영상주소:http://www.youtube.com//watch?v=00fUsFLRW54\n",
      "----------------------------------------------------------------------\n",
      "영상제목:단순히 큰(BIG) 데이터가 아닌 빅데이터! Data Technology에 대해 알아보겠습니다.\n",
      "영상주소:http://www.youtube.com//watch?v=DQFj41o_Bhs\n",
      "----------------------------------------------------------------------\n",
      "영상제목:실생활에 밀접하게 다가온 빅데이터 기술 / YTN 사이언스\n",
      "영상주소:http://www.youtube.com//watch?v=r_7w1bzYeSo\n",
      "----------------------------------------------------------------------\n",
      "영상제목:사주·운세 빅데이터 프로그램으로 본 한동훈의 운세[박찬범 박사]\n",
      "영상주소:http://www.youtube.com//watch?v=FE6xfFifYtw\n",
      "----------------------------------------------------------------------\n",
      "영상제목:10분으로 알아보는 빅데이터 기술 & 사례들! | 십분AI 마지막 강의\n",
      "영상주소:http://www.youtube.com//watch?v=Jd_fK-6dfcI\n",
      "----------------------------------------------------------------------\n",
      "영상제목:대왕 요구르트 등장…빅데이터가 만든 대박상품 / SBS\n",
      "영상주소:http://www.youtube.com//watch?v=Spp39BgpsNk\n",
      "----------------------------------------------------------------------\n",
      "영상제목:앞으로 2년 실거주로도 사면 안 됩니다 (리치고 김기원)\n",
      "영상주소:http://www.youtube.com//watch?v=fbGJsjxsqCs\n",
      "----------------------------------------------------------------------\n",
      "영상제목:빠르면 내년, 10년만에 큰 기회가 옵니다 (리치고 김기원)\n",
      "영상주소:http://www.youtube.com//watch?v=Tb9-H4_yJXc\n",
      "----------------------------------------------------------------------\n",
      "영상제목:AI 이렇게 쉬웠나? 25분만에 끝내는 인공지능 기초와 활용 및 사례 (ㄹㅇ블루오션)\n",
      "영상주소:http://www.youtube.com//watch?v=mRnXgBDf_oE\n",
      "----------------------------------------------------------------------\n",
      "영상제목:다이어리 꾸미기(오리지널 사이즈) | 감성 2스푼 빈티지 1스푼 | 다꾸 | vintage jurnal\n",
      "영상주소:http://www.youtube.com//watch?v=QqfsFSZfDpc\n",
      "----------------------------------------------------------------------\n",
      "영상제목:빅데이터 취업준비 이렇게 하시면 됩니다 | 프로그래밍 언어, 책 추천\n",
      "영상주소:http://www.youtube.com//watch?v=7wQvqD89hCU\n",
      "----------------------------------------------------------------------\n",
      "영상제목:빅데이터센터 연구원이 말하는 데이터의 중요성\n",
      "영상주소:http://www.youtube.com//watch?v=LVEZNLxuD-4\n",
      "----------------------------------------------------------------------\n",
      "영상제목:빅데이터가 말하는 꿈과 공부의 미래 | 최재원 다음소프트 이사 | 인생 강연 강의 듣기 | 세바시 817회\n",
      "영상주소:http://www.youtube.com//watch?v=DAAmaDWRmkY\n",
      "----------------------------------------------------------------------\n",
      "영상제목:엑셀밖에 모르는 까막눈도 이해하는 빅데이터(f.고영혁 대표)\n",
      "영상주소:http://www.youtube.com//watch?v=g2ZvVf2FV_4\n",
      "----------------------------------------------------------------------\n",
      "영상제목:빅데이터 처리 기술 개요\n",
      "영상주소:http://www.youtube.com//watch?v=GMteLVS6lME\n",
      "----------------------------------------------------------------------\n",
      "영상제목:[8분 명강] 세상을 읽는 새로운 언어, 빅데이터 - 서울대 산업공학과 조성준 교수\n",
      "영상주소:http://www.youtube.com//watch?v=ENP0cDULbSs\n",
      "----------------------------------------------------------------------\n",
      "영상제목:최고 전문가에게 듣는 데이터, AI 커리어 완벽 가이드\n",
      "영상주소:http://www.youtube.com//watch?v=nPjsKGi1EIQ\n",
      "----------------------------------------------------------------------\n",
      "영상제목:[빅데이터를 아는자, 기회를 잡는다!] 4차 산업혁명의 핵심기술, 빅데이터의 정의\n",
      "영상주소:http://www.youtube.com//watch?v=ykUmrnuyYYo\n",
      "----------------------------------------------------------------------\n"
     ]
    }
   ],
   "source": [
    "nums=[]\n",
    "titles= []\n",
    "video_urls=[]\n",
    "length=soup.find_all('a',id='video-title')\n",
    "\n",
    "for i in range(len(length)):\n",
    "    title=soup.find_all('a',id='video-title')[i].text.strip()\n",
    "    video_url=soup.find_all('a',id='video-title')[i]['href']\n",
    "    \n",
    "    titles.append(title)\n",
    "    video_urls.append(video_url)\n",
    "    nums.append(i+1)\n",
    "    print(\"영상제목:\" + title)\n",
    "    print(\"영상주소:\" + url_main+video_url)\n",
    "    print(\"-\"*70)"
   ]
  },
  {
   "cell_type": "markdown",
   "id": "0448d6ea",
   "metadata": {},
   "source": [
    "### 네이버 뉴스 제목, 내용 가져오기"
   ]
  },
  {
   "cell_type": "code",
   "execution_count": 86,
   "id": "96e7ed16",
   "metadata": {},
   "outputs": [],
   "source": [
    "url = \"https://n.news.naver.com/mnews/article/055/0000994481?sid=105\"\n",
    "driver = wb.Chrome()\n",
    "driver.get(url)"
   ]
  },
  {
   "cell_type": "code",
   "execution_count": 88,
   "id": "e12bd304",
   "metadata": {},
   "outputs": [],
   "source": [
    "soup = bs(driver.page_source,'lxml')"
   ]
  },
  {
   "cell_type": "code",
   "execution_count": 97,
   "id": "f11eb5aa",
   "metadata": {},
   "outputs": [],
   "source": [
    "title = soup.select_one(\"h2.media_end_head_headline\")"
   ]
  },
  {
   "cell_type": "code",
   "execution_count": 99,
   "id": "3a60d767",
   "metadata": {},
   "outputs": [
    {
     "name": "stdout",
     "output_type": "stream",
     "text": [
      "제목 :  미국은 스마트폰도 '자가 수리'…국내 도입 계획은\n"
     ]
    }
   ],
   "source": [
    "print(\"제목 : \", title.text)\n",
    "\n",
    "# select일때는  .text를 쓰면 오류가 난다 select_one으로 해주기! \n",
    "# 값 하나 : select_one = find\n",
    "# 리스트 : select = find_all "
   ]
  },
  {
   "cell_type": "code",
   "execution_count": 106,
   "id": "8b6822bc",
   "metadata": {},
   "outputs": [],
   "source": [
    "content = soup.select_one(\"div.go_trans._article_content\").text.strip().replace(\"\\n\",\"\")"
   ]
  },
  {
   "cell_type": "code",
   "execution_count": 108,
   "id": "31255488",
   "metadata": {},
   "outputs": [
    {
     "name": "stdout",
     "output_type": "stream",
     "text": [
      "내용 :  <앵커>미국에서는 스마트폰이 고장 나면, 서비스센터에 가지 않고도 소비자가 직접 고쳐서 쓸 수 있습니다. 부품을 살 수 있고, 어떻게 고치는지 그 방법을 업체들이 공개했기 때문입니다.그럼 우리나라도 이게 가능해질지 정성진 기자가 알아봤습니다.<기자>삼성전자 스마트폰의 나사를 풀고 액정 사이 빈틈에 장비를 꽂아 벗겨 낸 뒤, 새 액정으로 갈아 끼웁니다.글로벌 온라인 수리업체가 유튜브에 공개한 자가 수리 방법입니다.삼성이 사설 수리업체에도 정품 부품을 공급했기에 가능했습니다.스마트폰 소비자가 직접 수리할 권리를 보장하라는 미국 정부의 행정명령에 따른 겁니다.애플은 지난 4월부터, 삼성도 이달부터 서비스를 시작했습니다.갤럭시S21 기준 액정과 배터리 교체는 22만 원, 배터리 교체는 9만 원이면 스스로 교체가 가능합니다.유럽에서는 제작 단계부터 자체 수리가 쉽게 설계하라는 법안까지 추진 중입니다.하지만 국내 도입 계획은 아직 없습니다.국내는 서비스센터 접근성이 좋고, 수리 서비스 비용도 상대적으로 저렴해 실효성이 떨어진다는 게 업체 설명입니다.하지만 스마트폰 보증 기간은 2년, 부품 보유기간도 4년으로 짧아 사실상 2년마다 스마트폰 교체를 강제하는 상황인 만큼 수리비 문제로만 볼 게 아니라는 지적도 있습니다.[정지연/한국소비자연맹 사무총장 : (스마트폰의) 보증기간이나 부품 보유 기간들이 짧기 때문에 수리비가 너무 비싸거나 부품이 없어서 사용이 제한되는 경우들이 있습니다.]우리나라의 1인당 전자폐기물 양은 전 세계 평균의 2배에 달해 환경오염을 줄일 방안도 찾아야 합니다.지난해 국회에 관련 법이 제출돼 있는데 실효성과 안전 문제 등 본격적인 논의를 시작할 필요가 있습니다.(영상취재 : 윤 형, 영상편집 : 조무환, 화면출처 : 유튜브 IFIXIT)\n"
     ]
    }
   ],
   "source": [
    "print(\"내용 : \",content)"
   ]
  },
  {
   "cell_type": "code",
   "execution_count": null,
   "id": "87649b5c",
   "metadata": {},
   "outputs": [],
   "source": []
  },
  {
   "cell_type": "code",
   "execution_count": null,
   "id": "0a3f53b9",
   "metadata": {},
   "outputs": [],
   "source": []
  },
  {
   "cell_type": "code",
   "execution_count": null,
   "id": "6c80570e",
   "metadata": {},
   "outputs": [],
   "source": []
  },
  {
   "cell_type": "code",
   "execution_count": null,
   "id": "f01d648f",
   "metadata": {},
   "outputs": [],
   "source": []
  },
  {
   "cell_type": "code",
   "execution_count": null,
   "id": "98f4f55b",
   "metadata": {},
   "outputs": [],
   "source": []
  },
  {
   "cell_type": "code",
   "execution_count": null,
   "id": "47ff341f",
   "metadata": {},
   "outputs": [],
   "source": []
  }
 ],
 "metadata": {
  "kernelspec": {
   "display_name": "Python 3 (ipykernel)",
   "language": "python",
   "name": "python3"
  },
  "language_info": {
   "codemirror_mode": {
    "name": "ipython",
    "version": 3
   },
   "file_extension": ".py",
   "mimetype": "text/x-python",
   "name": "python",
   "nbconvert_exporter": "python",
   "pygments_lexer": "ipython3",
   "version": "3.9.12"
  }
 },
 "nbformat": 4,
 "nbformat_minor": 5
}
