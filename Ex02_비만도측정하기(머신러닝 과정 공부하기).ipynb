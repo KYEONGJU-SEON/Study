{
 "cells": [
  {
   "cell_type": "markdown",
   "id": "47eb7f24",
   "metadata": {},
   "source": [
    "### 추가설명 DataFrame 인덱싱 슬라이싱\n",
    "- 인덱싱: 데이터를 하나만 가져올 때 사용한다\n",
    "- 슬라이싱 : 여러개의 데이터를 범위로 잘라올 때 사용한다\n"
   ]
  },
  {
   "cell_type": "code",
   "execution_count": 7,
   "id": "ef8621f0",
   "metadata": {
    "scrolled": true
   },
   "outputs": [
    {
     "data": {
      "text/html": [
       "<div>\n",
       "<style scoped>\n",
       "    .dataframe tbody tr th:only-of-type {\n",
       "        vertical-align: middle;\n",
       "    }\n",
       "\n",
       "    .dataframe tbody tr th {\n",
       "        vertical-align: top;\n",
       "    }\n",
       "\n",
       "    .dataframe thead th {\n",
       "        text-align: right;\n",
       "    }\n",
       "</style>\n",
       "<table border=\"1\" class=\"dataframe\">\n",
       "  <thead>\n",
       "    <tr style=\"text-align: right;\">\n",
       "      <th></th>\n",
       "      <th>name</th>\n",
       "      <th>age</th>\n",
       "      <th>job</th>\n",
       "    </tr>\n",
       "  </thead>\n",
       "  <tbody>\n",
       "    <tr>\n",
       "      <th>0</th>\n",
       "      <td>John</td>\n",
       "      <td>20</td>\n",
       "      <td>student</td>\n",
       "    </tr>\n",
       "    <tr>\n",
       "      <th>1</th>\n",
       "      <td>Jenny</td>\n",
       "      <td>30</td>\n",
       "      <td>developer</td>\n",
       "    </tr>\n",
       "    <tr>\n",
       "      <th>2</th>\n",
       "      <td>Nate</td>\n",
       "      <td>30</td>\n",
       "      <td>teacher</td>\n",
       "    </tr>\n",
       "    <tr>\n",
       "      <th>3</th>\n",
       "      <td>Julia</td>\n",
       "      <td>40</td>\n",
       "      <td>dentist</td>\n",
       "    </tr>\n",
       "    <tr>\n",
       "      <th>4</th>\n",
       "      <td>Brian</td>\n",
       "      <td>45</td>\n",
       "      <td>manager</td>\n",
       "    </tr>\n",
       "  </tbody>\n",
       "</table>\n",
       "</div>"
      ],
      "text/plain": [
       "    name  age        job\n",
       "0   John   20    student\n",
       "1  Jenny   30  developer\n",
       "2   Nate   30    teacher\n",
       "3  Julia   40    dentist\n",
       "4  Brian   45    manager"
      ]
     },
     "execution_count": 7,
     "metadata": {},
     "output_type": "execute_result"
    }
   ],
   "source": [
    "import pandas as pd\n",
    "name = ['John','Jenny','Nate','Julia','Brian']\n",
    "age = [20,30,30,40,45]\n",
    "job = ['student','developer','teacher','dentist','manager']\n",
    "dic = { 'name':name,'age':age,'job':job}\n",
    "df = pd.DataFrame(dic)\n",
    "df"
   ]
  },
  {
   "cell_type": "code",
   "execution_count": 8,
   "id": "4e247499",
   "metadata": {},
   "outputs": [],
   "source": [
    "# 데이터 프레임에서 컬럼에 접근할 때\n",
    "# df['컬럼1'] 하나의 컬럼을 가져올 때\n",
    "# df[['컬럼1','컬럼2']] 두개 이상의 컬럼을 가져올 때\n",
    "\n",
    "#인덱서 활용(행부터 접근)\n",
    "# df.loc[행,열] \n",
    "# df.iloc[행,열] => iloc[2:4,3:6]\n",
    "\n",
    "# 행데이터만 가져오고 싶을 때는 그냥 행만 적어주면 된다\n",
    "# df.loc[행]"
   ]
  },
  {
   "cell_type": "code",
   "execution_count": 33,
   "id": "ae50972b",
   "metadata": {
    "collapsed": true
   },
   "outputs": [
    {
     "name": "stdout",
     "output_type": "stream",
     "text": [
      "0     John\n",
      "1    Jenny\n",
      "2     Nate\n",
      "3    Julia\n",
      "4    Brian\n",
      "Name: name, dtype: object\n",
      "0     John\n",
      "1    Jenny\n",
      "2     Nate\n",
      "3    Julia\n",
      "4    Brian\n",
      "Name: name, dtype: object\n",
      "0     John\n",
      "1    Jenny\n",
      "2     Nate\n",
      "3    Julia\n",
      "4    Brian\n",
      "Name: name, dtype: object\n"
     ]
    }
   ],
   "source": [
    "# 1. name컬럼 뽑아오기\n",
    "# 1-1) 열인덱싱 -> 시리즈 데이터\n",
    "print(df['name'])\n",
    "# 1-2) loc 사용\n",
    "print(df.loc[:,'name'])\n",
    "# 1-3) iloc 사용\n",
    "print(df.iloc[:,0])"
   ]
  },
  {
   "cell_type": "code",
   "execution_count": 76,
   "id": "6663e4a0",
   "metadata": {},
   "outputs": [
    {
     "name": "stdout",
     "output_type": "stream",
     "text": [
      "   age        job\n",
      "0   20    student\n",
      "1   30  developer\n",
      "2   30    teacher\n",
      "3   40    dentist\n",
      "4   45    manager\n"
     ]
    },
    {
     "data": {
      "text/html": [
       "<div>\n",
       "<style scoped>\n",
       "    .dataframe tbody tr th:only-of-type {\n",
       "        vertical-align: middle;\n",
       "    }\n",
       "\n",
       "    .dataframe tbody tr th {\n",
       "        vertical-align: top;\n",
       "    }\n",
       "\n",
       "    .dataframe thead th {\n",
       "        text-align: right;\n",
       "    }\n",
       "</style>\n",
       "<table border=\"1\" class=\"dataframe\">\n",
       "  <thead>\n",
       "    <tr style=\"text-align: right;\">\n",
       "      <th></th>\n",
       "      <th>age</th>\n",
       "      <th>job</th>\n",
       "    </tr>\n",
       "  </thead>\n",
       "  <tbody>\n",
       "    <tr>\n",
       "      <th>0</th>\n",
       "      <td>20</td>\n",
       "      <td>student</td>\n",
       "    </tr>\n",
       "    <tr>\n",
       "      <th>1</th>\n",
       "      <td>30</td>\n",
       "      <td>developer</td>\n",
       "    </tr>\n",
       "    <tr>\n",
       "      <th>2</th>\n",
       "      <td>30</td>\n",
       "      <td>teacher</td>\n",
       "    </tr>\n",
       "    <tr>\n",
       "      <th>3</th>\n",
       "      <td>40</td>\n",
       "      <td>dentist</td>\n",
       "    </tr>\n",
       "    <tr>\n",
       "      <th>4</th>\n",
       "      <td>45</td>\n",
       "      <td>manager</td>\n",
       "    </tr>\n",
       "  </tbody>\n",
       "</table>\n",
       "</div>"
      ],
      "text/plain": [
       "   age        job\n",
       "0   20    student\n",
       "1   30  developer\n",
       "2   30    teacher\n",
       "3   40    dentist\n",
       "4   45    manager"
      ]
     },
     "execution_count": 76,
     "metadata": {},
     "output_type": "execute_result"
    }
   ],
   "source": [
    "# 2. age, job 두개의 컬럼 뽑아오기 -> 데이터프레임\n",
    "# 2-1) 단순하게 열 인덱싱\n",
    "print(df[['age','job']])\n",
    "# 2-2) loc 사용\n",
    "df.loc[:,['age','job']]\n",
    "#2-3) iloc 사용\n",
    "df.iloc[:,1:]"
   ]
  },
  {
   "cell_type": "code",
   "execution_count": 67,
   "id": "77e58d53",
   "metadata": {
    "scrolled": true
   },
   "outputs": [
    {
     "name": "stdout",
     "output_type": "stream",
     "text": [
      "    name  age        job\n",
      "0   John   20    student\n",
      "1  Jenny   30  developer\n",
      "2   Nate   30    teacher\n",
      "    name  age        job\n",
      "0   John   20    student\n",
      "1  Jenny   30  developer\n",
      "2   Nate   30    teacher\n",
      "    name  age        job\n",
      "0   John   20    student\n",
      "1  Jenny   30  developer\n",
      "2   Nate   30    teacher\n"
     ]
    }
   ],
   "source": [
    "#3. John~Nate 데이터 뽑아오기(행)\n",
    "# 3-1) 단순하게 행 슬라이싱\n",
    "print(df[0:3])\n",
    "# 3-2) loc 사용\n",
    "print(df.loc[0:2,:])\n",
    "# 3-3) iloc 사용\n",
    "print(df.iloc[0:3,:])"
   ]
  },
  {
   "cell_type": "code",
   "execution_count": 1,
   "id": "3e76fcc8",
   "metadata": {},
   "outputs": [],
   "source": [
    "# 라이브러리 불러오기\n",
    "import matplotlib.pyplot as plt\n",
    "# 머신러닝 패키지\n",
    "from sklearn.neighbors import KNeighborsClassifier #KNN 분류모델\n",
    "from sklearn.metrics import accuracy_score # 정확도 측정도구"
   ]
  },
  {
   "cell_type": "markdown",
   "id": "9c3c5bde",
   "metadata": {},
   "source": [
    "### 우리의 목표!\n",
    "- 문제 정의\n",
    "500명의 키와 몸무게 데이터를 활용하여 비만도를 판단해주는 모델 만들어보기!\n",
    "(머신러닝 과정 학습해보기)"
   ]
  },
  {
   "cell_type": "markdown",
   "id": "d80d6f93",
   "metadata": {},
   "source": [
    "##### 데이터 수집"
   ]
  },
  {
   "cell_type": "code",
   "execution_count": 3,
   "id": "2edd677b",
   "metadata": {},
   "outputs": [],
   "source": [
    "import pandas as pd\n",
    "data = pd.read_csv(\"data/bmi_500.csv\",index_col = 'Label')\n",
    "# 인덱스로 컬럼 중 하나인 라벨을 보내줄거야! "
   ]
  },
  {
   "cell_type": "code",
   "execution_count": 4,
   "id": "665cec15",
   "metadata": {},
   "outputs": [
    {
     "data": {
      "text/plain": [
       "(500, 3)"
      ]
     },
     "execution_count": 4,
     "metadata": {},
     "output_type": "execute_result"
    }
   ],
   "source": [
    "# 데이터 살펴보기\n",
    "# 크기\n",
    "data.shape\n",
    "# 행 데이터 -> 500명의 데이터 \n",
    "# 열 데이터 -> 성별, 키, 몸무게"
   ]
  },
  {
   "cell_type": "markdown",
   "id": "66da7746",
   "metadata": {},
   "source": [
    "##### 데이터 전처리 하기\n",
    "- 결측치, 이상치 처리"
   ]
  },
  {
   "cell_type": "code",
   "execution_count": 5,
   "id": "0e67badc",
   "metadata": {
    "scrolled": true
   },
   "outputs": [
    {
     "name": "stdout",
     "output_type": "stream",
     "text": [
      "<class 'pandas.core.frame.DataFrame'>\n",
      "Index: 500 entries, Obesity to Extreme Obesity\n",
      "Data columns (total 3 columns):\n",
      " #   Column  Non-Null Count  Dtype \n",
      "---  ------  --------------  ----- \n",
      " 0   Gender  500 non-null    object\n",
      " 1   Height  500 non-null    int64 \n",
      " 2   Weight  500 non-null    int64 \n",
      "dtypes: int64(2), object(1)\n",
      "memory usage: 15.6+ KB\n"
     ]
    }
   ],
   "source": [
    "# 전체 데이터 확인\n",
    "data.info()\n",
    "# 결측치가 존재하지 않음 -> 특별한 조치가 필요하지 않음 "
   ]
  },
  {
   "cell_type": "markdown",
   "id": "1937f1fe",
   "metadata": {},
   "source": [
    "##### 탐색적 데이터 분석(EDA-Exploratory Data Analysis)\n",
    "- 데이터 세트들의 특성을 확인한다\n",
    "- 기술통계확인(통계량에 대해 적어준 데이터) - 평균, 최대값, 최소값, 4분위수\n",
    "- 시각화를 통해서 데이터의 분포현황을 알아본다"
   ]
  },
  {
   "cell_type": "code",
   "execution_count": 6,
   "id": "46fcf383",
   "metadata": {},
   "outputs": [
    {
     "data": {
      "text/html": [
       "<div>\n",
       "<style scoped>\n",
       "    .dataframe tbody tr th:only-of-type {\n",
       "        vertical-align: middle;\n",
       "    }\n",
       "\n",
       "    .dataframe tbody tr th {\n",
       "        vertical-align: top;\n",
       "    }\n",
       "\n",
       "    .dataframe thead th {\n",
       "        text-align: right;\n",
       "    }\n",
       "</style>\n",
       "<table border=\"1\" class=\"dataframe\">\n",
       "  <thead>\n",
       "    <tr style=\"text-align: right;\">\n",
       "      <th></th>\n",
       "      <th>Height</th>\n",
       "      <th>Weight</th>\n",
       "    </tr>\n",
       "  </thead>\n",
       "  <tbody>\n",
       "    <tr>\n",
       "      <th>count</th>\n",
       "      <td>500.000000</td>\n",
       "      <td>500.000000</td>\n",
       "    </tr>\n",
       "    <tr>\n",
       "      <th>mean</th>\n",
       "      <td>169.944000</td>\n",
       "      <td>106.000000</td>\n",
       "    </tr>\n",
       "    <tr>\n",
       "      <th>std</th>\n",
       "      <td>16.375261</td>\n",
       "      <td>32.382607</td>\n",
       "    </tr>\n",
       "    <tr>\n",
       "      <th>min</th>\n",
       "      <td>140.000000</td>\n",
       "      <td>50.000000</td>\n",
       "    </tr>\n",
       "    <tr>\n",
       "      <th>25%</th>\n",
       "      <td>156.000000</td>\n",
       "      <td>80.000000</td>\n",
       "    </tr>\n",
       "    <tr>\n",
       "      <th>50%</th>\n",
       "      <td>170.500000</td>\n",
       "      <td>106.000000</td>\n",
       "    </tr>\n",
       "    <tr>\n",
       "      <th>75%</th>\n",
       "      <td>184.000000</td>\n",
       "      <td>136.000000</td>\n",
       "    </tr>\n",
       "    <tr>\n",
       "      <th>max</th>\n",
       "      <td>199.000000</td>\n",
       "      <td>160.000000</td>\n",
       "    </tr>\n",
       "  </tbody>\n",
       "</table>\n",
       "</div>"
      ],
      "text/plain": [
       "           Height      Weight\n",
       "count  500.000000  500.000000\n",
       "mean   169.944000  106.000000\n",
       "std     16.375261   32.382607\n",
       "min    140.000000   50.000000\n",
       "25%    156.000000   80.000000\n",
       "50%    170.500000  106.000000\n",
       "75%    184.000000  136.000000\n",
       "max    199.000000  160.000000"
      ]
     },
     "execution_count": 6,
     "metadata": {},
     "output_type": "execute_result"
    }
   ],
   "source": [
    "# 기술통계 확인하기 discribe() - 통계랑을 한번에 확인 가능하다\n",
    "data.describe()\n",
    "# 데이터개수, 평균, 표준편차, 최솟값, 4사분위수\n",
    "# 평균과 중위값(50%)이 얼마 차이가 크지 않음 -> 이상치가 없다! "
   ]
  },
  {
   "cell_type": "code",
   "execution_count": 7,
   "id": "e139f243",
   "metadata": {},
   "outputs": [
    {
     "data": {
      "text/plain": [
       "Index(['Obesity', 'Normal', 'Overweight', 'Extreme Obesity', 'Weak',\n",
       "       'Extremely Weak'],\n",
       "      dtype='object', name='Label')"
      ]
     },
     "execution_count": 7,
     "metadata": {},
     "output_type": "execute_result"
    }
   ],
   "source": [
    "# Label(정답) 데이터\n",
    "# label(범주형 데이터)->분류모델\n",
    "data.index.unique() # 유일한 값들만 출력\n",
    "# 'Extreme Obesity' : 고도비만\n",
    "# 'Overweight' : 과체중\n",
    "# 'Obesity': 비만\n",
    "# 'Normal' : 보통\n",
    "# 'Weak' : 저체중\n",
    "# 'Extremely Weak': 심한 저체중\n",
    "# 6개의 클래스를 가짐 "
   ]
  },
  {
   "cell_type": "code",
   "execution_count": 8,
   "id": "1a230cca",
   "metadata": {},
   "outputs": [
    {
     "data": {
      "text/plain": [
       "Extreme Obesity    198\n",
       "Obesity            130\n",
       "Normal              69\n",
       "Overweight          68\n",
       "Weak                22\n",
       "Extremely Weak      13\n",
       "Name: Label, dtype: int64"
      ]
     },
     "execution_count": 8,
     "metadata": {},
     "output_type": "execute_result"
    }
   ],
   "source": [
    "# 각 클래스들의 개수를 확인하기\n",
    "data.index.value_counts()\n",
    "# 데이터가 편중되어있다 -> 제대로 할때는 저체중 이하 데이터를 더 가져와야함\n",
    "# 고도비만이 많은 편이다 -> 편중된 데이터 -> 다시 데이터 수집 추천 "
   ]
  },
  {
   "cell_type": "code",
   "execution_count": 9,
   "id": "f1f222d1",
   "metadata": {},
   "outputs": [
    {
     "data": {
      "text/plain": [
       "Female    255\n",
       "Male      245\n",
       "Name: Gender, dtype: int64"
      ]
     },
     "execution_count": 9,
     "metadata": {},
     "output_type": "execute_result"
    }
   ],
   "source": [
    "# 남녀의 개수 세보기\n",
    "data.Gender.value_counts()"
   ]
  },
  {
   "cell_type": "code",
   "execution_count": 10,
   "id": "cc1e60bc",
   "metadata": {},
   "outputs": [
    {
     "data": {
      "text/plain": [
       "Female    255\n",
       "Male      245\n",
       "Name: Gender, dtype: int64"
      ]
     },
     "execution_count": 10,
     "metadata": {},
     "output_type": "execute_result"
    }
   ],
   "source": [
    "data['Gender'].value_counts()"
   ]
  },
  {
   "cell_type": "code",
   "execution_count": 11,
   "id": "fe703904",
   "metadata": {},
   "outputs": [
    {
     "data": {
      "image/png": "[encoded data removed]",
      "text/plain": [
       "<Figure size 432x288 with 1 Axes>"
      ]
     },
     "metadata": {
      "needs_background": "light"
     },
     "output_type": "display_data"
    }
   ],
   "source": [
    "# 데이터 label별 분포 현황 시각화 -> 산점도(scatter, 데이터가 얼마나 흩어져있는지)\n",
    "# 먼저 하나의 label에 대해 시각화 진행\n",
    "# 인덱스의 이름이 고도비만(Extreme Obesity)인 컬럼만 가져와주세요 \n",
    "eo =data.loc['Extreme Obesity']\n",
    "\n",
    "# plt.scatter(x축 - 키데이터, y- 체중데이터)\n",
    "plt.scatter(eo['Height'],eo['Weight'],color='skyblue',label ='ext ob')\n",
    "plt.legend()\n",
    "plt.show()"
   ]
  },
  {
   "cell_type": "code",
   "execution_count": 13,
   "id": "22b0b750",
   "metadata": {},
   "outputs": [
    {
     "data": {
      "image/png": "[encoded data removed]",
      "text/plain": [
       "<Figure size 432x288 with 1 Axes>"
      ]
     },
     "metadata": {
      "needs_background": "light"
     },
     "output_type": "display_data"
    }
   ],
   "source": [
    "ob = data.loc['Obesity']\n",
    "\n",
    "#plt.scatter(x축 - 키데이터, y- 체중데이터)\n",
    "plt.scatter(ob['Height'],ob['Weight'], color='salmon', label='ob')\n",
    "plt.legend\n",
    "plt.show()"
   ]
  },
  {
   "cell_type": "code",
   "execution_count": null,
   "id": "3115c7e9",
   "metadata": {},
   "outputs": [],
   "source": [
    "# 하나씩 모든 클래스를 시각화 해주면 코드가 너무 길어짐\n",
    "# 우리는 함수로 묶어서 코드를 작성해주겠다. "
   ]
  },
  {
   "cell_type": "code",
   "execution_count": 20,
   "id": "227dd71d",
   "metadata": {},
   "outputs": [],
   "source": [
    "# 함수 정의하기 !\n",
    "def bmi(label,color):\n",
    "    d= data.loc[label]\n",
    "    plt.scatter(d['Height'],d['Weight'], c=color, label=label)"
   ]
  },
  {
   "cell_type": "code",
   "execution_count": 15,
   "id": "125a18f6",
   "metadata": {},
   "outputs": [
    {
     "data": {
      "text/plain": [
       "Index(['Obesity', 'Normal', 'Overweight', 'Extreme Obesity', 'Weak',\n",
       "       'Extremely Weak'],\n",
       "      dtype='object', name='Label')"
      ]
     },
     "execution_count": 15,
     "metadata": {},
     "output_type": "execute_result"
    }
   ],
   "source": [
    "data.index.unique()"
   ]
  },
  {
   "cell_type": "code",
   "execution_count": 22,
   "id": "6fcf11c6",
   "metadata": {},
   "outputs": [
    {
     "data": {
      "image/png": "[encoded data removed]",
      "text/plain": [
       "<Figure size 432x288 with 1 Axes>"
      ]
     },
     "metadata": {
      "needs_background": "light"
     },
     "output_type": "display_data"
    }
   ],
   "source": [
    "# 함수 호출하기 ! \n",
    "bmi('Extreme Obesity','red')\n",
    "bmi('Obesity','orange')\n",
    "bmi('Overweight','yellow')\n",
    "bmi('Normal','green')\n",
    "bmi('Weak','blue')\n",
    "bmi('Extremely Weak','purple')\n",
    "\n",
    "plt.legend()\n",
    "plt.show()\n",
    "\n",
    "# 탐색적 데이터 분석을 하면서 데이터 전처리에 대해 생각 가능\n",
    "# 현재는 큰 이상치는 아니기 때문에 그냥 진행하겠다\n",
    "# 만약 정확도가 많이 낮다면 다시 전처리부터 진행하기 "
   ]
  },
  {
   "cell_type": "markdown",
   "id": "08e5cccf",
   "metadata": {},
   "source": [
    "#### 모델링\n",
    "- 문제와 답으로 데이터를 분리"
   ]
  },
  {
   "cell_type": "code",
   "execution_count": null,
   "id": "e9676997",
   "metadata": {},
   "outputs": [],
   "source": [
    "# 특정키와 특정 몸무게 값이 있으면 -> X\n",
    "# 그 특정 데이터에 맞는 정답값 -> y"
   ]
  },
  {
   "cell_type": "code",
   "execution_count": null,
   "id": "08ae18f0",
   "metadata": {},
   "outputs": [],
   "source": [
    "# 데이터 셋팅\n",
    "# X= 문제데이터 - 키와 몸무게\n",
    "# y= 정답데이터 - 비만도 "
   ]
  },
  {
   "cell_type": "code",
   "execution_count": 23,
   "id": "c274bbe9",
   "metadata": {},
   "outputs": [
    {
     "data": {
      "text/html": [
       "<div>\n",
       "<style scoped>\n",
       "    .dataframe tbody tr th:only-of-type {\n",
       "        vertical-align: middle;\n",
       "    }\n",
       "\n",
       "    .dataframe tbody tr th {\n",
       "        vertical-align: top;\n",
       "    }\n",
       "\n",
       "    .dataframe thead th {\n",
       "        text-align: right;\n",
       "    }\n",
       "</style>\n",
       "<table border=\"1\" class=\"dataframe\">\n",
       "  <thead>\n",
       "    <tr style=\"text-align: right;\">\n",
       "      <th></th>\n",
       "      <th>Gender</th>\n",
       "      <th>Height</th>\n",
       "      <th>Weight</th>\n",
       "    </tr>\n",
       "    <tr>\n",
       "      <th>Label</th>\n",
       "      <th></th>\n",
       "      <th></th>\n",
       "      <th></th>\n",
       "    </tr>\n",
       "  </thead>\n",
       "  <tbody>\n",
       "    <tr>\n",
       "      <th>Obesity</th>\n",
       "      <td>Male</td>\n",
       "      <td>174</td>\n",
       "      <td>96</td>\n",
       "    </tr>\n",
       "    <tr>\n",
       "      <th>Normal</th>\n",
       "      <td>Male</td>\n",
       "      <td>189</td>\n",
       "      <td>87</td>\n",
       "    </tr>\n",
       "    <tr>\n",
       "      <th>Obesity</th>\n",
       "      <td>Female</td>\n",
       "      <td>185</td>\n",
       "      <td>110</td>\n",
       "    </tr>\n",
       "    <tr>\n",
       "      <th>Overweight</th>\n",
       "      <td>Female</td>\n",
       "      <td>195</td>\n",
       "      <td>104</td>\n",
       "    </tr>\n",
       "    <tr>\n",
       "      <th>Overweight</th>\n",
       "      <td>Male</td>\n",
       "      <td>149</td>\n",
       "      <td>61</td>\n",
       "    </tr>\n",
       "    <tr>\n",
       "      <th>...</th>\n",
       "      <td>...</td>\n",
       "      <td>...</td>\n",
       "      <td>...</td>\n",
       "    </tr>\n",
       "    <tr>\n",
       "      <th>Extreme Obesity</th>\n",
       "      <td>Female</td>\n",
       "      <td>150</td>\n",
       "      <td>153</td>\n",
       "    </tr>\n",
       "    <tr>\n",
       "      <th>Obesity</th>\n",
       "      <td>Female</td>\n",
       "      <td>184</td>\n",
       "      <td>121</td>\n",
       "    </tr>\n",
       "    <tr>\n",
       "      <th>Extreme Obesity</th>\n",
       "      <td>Female</td>\n",
       "      <td>141</td>\n",
       "      <td>136</td>\n",
       "    </tr>\n",
       "    <tr>\n",
       "      <th>Extreme Obesity</th>\n",
       "      <td>Male</td>\n",
       "      <td>150</td>\n",
       "      <td>95</td>\n",
       "    </tr>\n",
       "    <tr>\n",
       "      <th>Extreme Obesity</th>\n",
       "      <td>Male</td>\n",
       "      <td>173</td>\n",
       "      <td>131</td>\n",
       "    </tr>\n",
       "  </tbody>\n",
       "</table>\n",
       "<p>500 rows × 3 columns</p>\n",
       "</div>"
      ],
      "text/plain": [
       "                 Gender  Height  Weight\n",
       "Label                                  \n",
       "Obesity            Male     174      96\n",
       "Normal             Male     189      87\n",
       "Obesity          Female     185     110\n",
       "Overweight       Female     195     104\n",
       "Overweight         Male     149      61\n",
       "...                 ...     ...     ...\n",
       "Extreme Obesity  Female     150     153\n",
       "Obesity          Female     184     121\n",
       "Extreme Obesity  Female     141     136\n",
       "Extreme Obesity    Male     150      95\n",
       "Extreme Obesity    Male     173     131\n",
       "\n",
       "[500 rows x 3 columns]"
      ]
     },
     "execution_count": 23,
     "metadata": {},
     "output_type": "execute_result"
    }
   ],
   "source": [
    "data"
   ]
  },
  {
   "cell_type": "code",
   "execution_count": 42,
   "id": "b7567b46",
   "metadata": {},
   "outputs": [],
   "source": [
    "X = data.iloc[:,1:3]\n",
    "y = data.index"
   ]
  },
  {
   "cell_type": "code",
   "execution_count": 43,
   "id": "d36a87ce",
   "metadata": {},
   "outputs": [
    {
     "name": "stdout",
     "output_type": "stream",
     "text": [
      "훈련용 문제 데이터 : (500, 2)\n",
      "훈련용 답 데이터 : (500,)\n"
     ]
    }
   ],
   "source": [
    "print('훈련용 문제 데이터 :',X.shape)\n",
    "print('훈련용 답 데이터 :',y.shape)"
   ]
  },
  {
   "cell_type": "code",
   "execution_count": 40,
   "id": "9a63aeb3",
   "metadata": {
    "collapsed": true
   },
   "outputs": [
    {
     "data": {
      "text/html": [
       "<div>\n",
       "<style scoped>\n",
       "    .dataframe tbody tr th:only-of-type {\n",
       "        vertical-align: middle;\n",
       "    }\n",
       "\n",
       "    .dataframe tbody tr th {\n",
       "        vertical-align: top;\n",
       "    }\n",
       "\n",
       "    .dataframe thead th {\n",
       "        text-align: right;\n",
       "    }\n",
       "</style>\n",
       "<table border=\"1\" class=\"dataframe\">\n",
       "  <thead>\n",
       "    <tr style=\"text-align: right;\">\n",
       "      <th></th>\n",
       "      <th>Height</th>\n",
       "      <th>Weight</th>\n",
       "    </tr>\n",
       "    <tr>\n",
       "      <th>Label</th>\n",
       "      <th></th>\n",
       "      <th></th>\n",
       "    </tr>\n",
       "  </thead>\n",
       "  <tbody>\n",
       "    <tr>\n",
       "      <th>Obesity</th>\n",
       "      <td>174</td>\n",
       "      <td>96</td>\n",
       "    </tr>\n",
       "    <tr>\n",
       "      <th>Normal</th>\n",
       "      <td>189</td>\n",
       "      <td>87</td>\n",
       "    </tr>\n",
       "    <tr>\n",
       "      <th>Obesity</th>\n",
       "      <td>185</td>\n",
       "      <td>110</td>\n",
       "    </tr>\n",
       "    <tr>\n",
       "      <th>Overweight</th>\n",
       "      <td>195</td>\n",
       "      <td>104</td>\n",
       "    </tr>\n",
       "    <tr>\n",
       "      <th>Overweight</th>\n",
       "      <td>149</td>\n",
       "      <td>61</td>\n",
       "    </tr>\n",
       "    <tr>\n",
       "      <th>...</th>\n",
       "      <td>...</td>\n",
       "      <td>...</td>\n",
       "    </tr>\n",
       "    <tr>\n",
       "      <th>Extreme Obesity</th>\n",
       "      <td>150</td>\n",
       "      <td>153</td>\n",
       "    </tr>\n",
       "    <tr>\n",
       "      <th>Obesity</th>\n",
       "      <td>184</td>\n",
       "      <td>121</td>\n",
       "    </tr>\n",
       "    <tr>\n",
       "      <th>Extreme Obesity</th>\n",
       "      <td>141</td>\n",
       "      <td>136</td>\n",
       "    </tr>\n",
       "    <tr>\n",
       "      <th>Extreme Obesity</th>\n",
       "      <td>150</td>\n",
       "      <td>95</td>\n",
       "    </tr>\n",
       "    <tr>\n",
       "      <th>Extreme Obesity</th>\n",
       "      <td>173</td>\n",
       "      <td>131</td>\n",
       "    </tr>\n",
       "  </tbody>\n",
       "</table>\n",
       "<p>500 rows × 2 columns</p>\n",
       "</div>"
      ],
      "text/plain": [
       "                 Height  Weight\n",
       "Label                          \n",
       "Obesity             174      96\n",
       "Normal              189      87\n",
       "Obesity             185     110\n",
       "Overweight          195     104\n",
       "Overweight          149      61\n",
       "...                 ...     ...\n",
       "Extreme Obesity     150     153\n",
       "Obesity             184     121\n",
       "Extreme Obesity     141     136\n",
       "Extreme Obesity     150      95\n",
       "Extreme Obesity     173     131\n",
       "\n",
       "[500 rows x 2 columns]"
      ]
     },
     "execution_count": 40,
     "metadata": {},
     "output_type": "execute_result"
    }
   ],
   "source": [
    "X_train"
   ]
  },
  {
   "cell_type": "code",
   "execution_count": 48,
   "id": "16c7b169",
   "metadata": {},
   "outputs": [
    {
     "data": {
      "text/html": [
       "<div>\n",
       "<style scoped>\n",
       "    .dataframe tbody tr th:only-of-type {\n",
       "        vertical-align: middle;\n",
       "    }\n",
       "\n",
       "    .dataframe tbody tr th {\n",
       "        vertical-align: top;\n",
       "    }\n",
       "\n",
       "    .dataframe thead th {\n",
       "        text-align: right;\n",
       "    }\n",
       "</style>\n",
       "<table border=\"1\" class=\"dataframe\">\n",
       "  <thead>\n",
       "    <tr style=\"text-align: right;\">\n",
       "      <th></th>\n",
       "      <th>Height</th>\n",
       "      <th>Weight</th>\n",
       "    </tr>\n",
       "    <tr>\n",
       "      <th>Label</th>\n",
       "      <th></th>\n",
       "      <th></th>\n",
       "    </tr>\n",
       "  </thead>\n",
       "  <tbody>\n",
       "    <tr>\n",
       "      <th>Obesity</th>\n",
       "      <td>174</td>\n",
       "      <td>96</td>\n",
       "    </tr>\n",
       "    <tr>\n",
       "      <th>Normal</th>\n",
       "      <td>189</td>\n",
       "      <td>87</td>\n",
       "    </tr>\n",
       "    <tr>\n",
       "      <th>Obesity</th>\n",
       "      <td>185</td>\n",
       "      <td>110</td>\n",
       "    </tr>\n",
       "    <tr>\n",
       "      <th>Overweight</th>\n",
       "      <td>195</td>\n",
       "      <td>104</td>\n",
       "    </tr>\n",
       "    <tr>\n",
       "      <th>Overweight</th>\n",
       "      <td>149</td>\n",
       "      <td>61</td>\n",
       "    </tr>\n",
       "  </tbody>\n",
       "</table>\n",
       "</div>"
      ],
      "text/plain": [
       "            Height  Weight\n",
       "Label                     \n",
       "Obesity        174      96\n",
       "Normal         189      87\n",
       "Obesity        185     110\n",
       "Overweight     195     104\n",
       "Overweight     149      61"
      ]
     },
     "metadata": {},
     "output_type": "display_data"
    }
   ],
   "source": [
    "# 상위 5개 행만 출력해보기\n",
    "display(X.head())"
   ]
  },
  {
   "cell_type": "code",
   "execution_count": null,
   "id": "f5bcf1c2",
   "metadata": {},
   "outputs": [],
   "source": [
    "# 전체 데이터를 학습용 데이터와 테스트용 데이터로 분리하기\n",
    "# 훈련용 데이터 70% 테스트용 데이터 30%로 분리\n"
   ]
  },
  {
   "cell_type": "code",
   "execution_count": 65,
   "id": "8147625b",
   "metadata": {},
   "outputs": [
    {
     "name": "stdout",
     "output_type": "stream",
     "text": [
      "훈련용 문제데이터 (350, 2)\n",
      "훈련용 정답데이터 (350,)\n",
      "테스트용 문제데이터 (150, 2)\n",
      "테스트용 정답데이터 (150,)\n"
     ]
    }
   ],
   "source": [
    "# 훈련용 데이터 ---> 350개\n",
    "X_train = X.iloc[:350]\n",
    "y_train = y[:350]\n",
    "\n",
    "X_test = X.iloc[350:]\n",
    "y_test = y[350:]\n",
    "\n",
    "# 크기 확인\n",
    "print('훈련용 문제데이터',X_train.shape)\n",
    "print('훈련용 정답데이터',y_train.shape)\n",
    "print('테스트용 문제데이터',X_test.shape)\n",
    "print('테스트용 정답데이터',y_test.shape)"
   ]
  },
  {
   "cell_type": "markdown",
   "id": "481edcbd",
   "metadata": {},
   "source": [
    "##### 모델 객체 생성하기, 하이퍼파라미터 설정"
   ]
  },
  {
   "cell_type": "code",
   "execution_count": 73,
   "id": "c141655f",
   "metadata": {},
   "outputs": [],
   "source": [
    "# 모델 객체 생성\n",
    "knn = KNeighborsClassifier(n_neighbors=5)\n",
    "# 나랑 가장 가까운 이웃 하나만 보겠다 \n",
    "# n_neighbors=5 나랑 가까운 5명의 이웃데이터를 보겠다 "
   ]
  },
  {
   "cell_type": "markdown",
   "id": "07a6fbf1",
   "metadata": {},
   "source": [
    "##### 모델 학습"
   ]
  },
  {
   "cell_type": "code",
   "execution_count": 74,
   "id": "29f1d183",
   "metadata": {},
   "outputs": [
    {
     "data": {
      "text/plain": [
       "KNeighborsClassifier()"
      ]
     },
     "execution_count": 74,
     "metadata": {},
     "output_type": "execute_result"
    }
   ],
   "source": [
    "# 모델 학습 (fit)\n",
    "knn.fit(X_train, y_train)\n",
    "# KNeighborsClassifier(n_neighbors=1) -> 어 나 잘 학습했어~ "
   ]
  },
  {
   "cell_type": "code",
   "execution_count": 75,
   "id": "a93ae9d8",
   "metadata": {},
   "outputs": [],
   "source": [
    "# 모델 예측 - predict(테스트용 문제)\n",
    "pre = knn.predict(X_test)"
   ]
  },
  {
   "cell_type": "code",
   "execution_count": 76,
   "id": "64094de7",
   "metadata": {},
   "outputs": [
    {
     "data": {
      "text/plain": [
       "0.9066666666666666"
      ]
     },
     "execution_count": 76,
     "metadata": {},
     "output_type": "execute_result"
    }
   ],
   "source": [
    "# 모델 평가 - accuracy_score(예측한 데이터, 실제 답)\n",
    "accuracy_score(pre,y_test)\n",
    "# 정확도가 출력됨 "
   ]
  },
  {
   "cell_type": "code",
   "execution_count": 77,
   "id": "92aed799",
   "metadata": {},
   "outputs": [
    {
     "data": {
      "text/plain": [
       "0.9066666666666666"
      ]
     },
     "execution_count": 77,
     "metadata": {},
     "output_type": "execute_result"
    }
   ],
   "source": [
    "# 또다른 모델 평가 방법 - 모델.score(테스트용 문제, 테스트용 답 )\n",
    "knn.score(X_test, y_test)\n",
    "# 89%가 아쉽다? - > 하이퍼 파라미터 조정 \n"
   ]
  },
  {
   "cell_type": "code",
   "execution_count": null,
   "id": "a6fcfbbc",
   "metadata": {},
   "outputs": [],
   "source": []
  }
 ],
 "metadata": {
  "kernelspec": {
   "display_name": "Python 3 (ipykernel)",
   "language": "python",
   "name": "python3"
  },
  "language_info": {
   "codemirror_mode": {
    "name": "ipython",
    "version": 3
   },
   "file_extension": ".py",
   "mimetype": "text/x-python",
   "name": "python",
   "nbconvert_exporter": "python",
   "pygments_lexer": "ipython3",
   "version": "3.9.12"
  }
 },
 "nbformat": 4,
 "nbformat_minor": 5
}
