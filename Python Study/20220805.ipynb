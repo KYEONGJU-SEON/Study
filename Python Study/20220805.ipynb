{
 "cells": [
  {
   "cell_type": "markdown",
   "id": "d4d11417",
   "metadata": {},
   "source": [
    "## 딕셔너리\n",
    "\n",
    "- key와 value 가 한 쌍을 이루는 자료형 \n",
    "- {}, k:v 이용"
   ]
  },
  {
   "cell_type": "code",
   "execution_count": 1,
   "id": "cc8c4249",
   "metadata": {},
   "outputs": [],
   "source": [
    "# 딕셔너리 생성\n",
    "dic_1 = {'name':'세연쌤','age':21,'phone':'010-0000-0000'}"
   ]
  },
  {
   "cell_type": "code",
   "execution_count": 3,
   "id": "65733bd5",
   "metadata": {},
   "outputs": [
    {
     "data": {
      "text/plain": [
       "dict"
      ]
     },
     "execution_count": 3,
     "metadata": {},
     "output_type": "execute_result"
    }
   ],
   "source": [
    "# 자료형 타입 확인 함수\n",
    "type(dic_1)"
   ]
  },
  {
   "cell_type": "code",
   "execution_count": 4,
   "id": "5d35d0d6",
   "metadata": {},
   "outputs": [],
   "source": [
    "# 딕셔너리 값 추가\n",
    "dic_1['birth']='03/20'"
   ]
  },
  {
   "cell_type": "code",
   "execution_count": 5,
   "id": "1778dd50",
   "metadata": {},
   "outputs": [
    {
     "data": {
      "text/plain": [
       "{'name': '세연쌤', 'age': 21, 'phone': '010-0000-0000', 'birth': '03/20'}"
      ]
     },
     "execution_count": 5,
     "metadata": {},
     "output_type": "execute_result"
    }
   ],
   "source": [
    "dic_1"
   ]
  },
  {
   "cell_type": "code",
   "execution_count": 6,
   "id": "b9aad0e9",
   "metadata": {},
   "outputs": [],
   "source": [
    "dic_1['like'] ='money'"
   ]
  },
  {
   "cell_type": "code",
   "execution_count": 8,
   "id": "ab5dd806",
   "metadata": {},
   "outputs": [
    {
     "data": {
      "text/plain": [
       "{'name': '세연쌤',\n",
       " 'age': 21,\n",
       " 'phone': '010-0000-0000',\n",
       " 'birth': '03/20',\n",
       " 'like': 'money'}"
      ]
     },
     "execution_count": 8,
     "metadata": {},
     "output_type": "execute_result"
    }
   ],
   "source": [
    "dic_1"
   ]
  },
  {
   "cell_type": "code",
   "execution_count": 10,
   "id": "3b2b2716",
   "metadata": {},
   "outputs": [],
   "source": [
    "dic_test = {'노래제목' : '아무노래'}"
   ]
  },
  {
   "cell_type": "code",
   "execution_count": 12,
   "id": "bfa05d88",
   "metadata": {},
   "outputs": [],
   "source": [
    "dic_test['가수','날짜']= '지코','2020.01.13'"
   ]
  },
  {
   "cell_type": "code",
   "execution_count": 13,
   "id": "1f92ef35",
   "metadata": {},
   "outputs": [
    {
     "data": {
      "text/plain": [
       "{'노래제목': '아무노래', '가수': '지코', ('가수', '날짜'): ('지코', '2020.01.13')}"
      ]
     },
     "execution_count": 13,
     "metadata": {},
     "output_type": "execute_result"
    }
   ],
   "source": [
    "dic_test"
   ]
  },
  {
   "cell_type": "code",
   "execution_count": 15,
   "id": "b2ab6815",
   "metadata": {},
   "outputs": [
    {
     "data": {
      "text/plain": [
       "'아무노래'"
      ]
     },
     "execution_count": 15,
     "metadata": {},
     "output_type": "execute_result"
    }
   ],
   "source": [
    "#딕셔너리 값 가져오기\n",
    "dic_test['노래제목']"
   ]
  },
  {
   "cell_type": "code",
   "execution_count": 16,
   "id": "b9c7e01c",
   "metadata": {},
   "outputs": [],
   "source": [
    "# 없는 key 값은 가져올 수 없다 (에러)"
   ]
  },
  {
   "cell_type": "code",
   "execution_count": 17,
   "id": "cd85f09b",
   "metadata": {},
   "outputs": [
    {
     "data": {
      "text/plain": [
       "21"
      ]
     },
     "execution_count": 17,
     "metadata": {},
     "output_type": "execute_result"
    }
   ],
   "source": [
    "# 딕셔너리 값 가져오기 2\n",
    "# 딕셔너리.get(key)\n",
    "dic_1.get('age')"
   ]
  },
  {
   "cell_type": "code",
   "execution_count": 32,
   "id": "b91294a4",
   "metadata": {},
   "outputs": [
    {
     "name": "stdout",
     "output_type": "stream",
     "text": [
      "None\n"
     ]
    }
   ],
   "source": [
    "print(dic_1.get('gold'))"
   ]
  },
  {
   "cell_type": "code",
   "execution_count": 35,
   "id": "3f138806",
   "metadata": {},
   "outputs": [
    {
     "data": {
      "text/plain": [
       "'지코'"
      ]
     },
     "execution_count": 35,
     "metadata": {},
     "output_type": "execute_result"
    }
   ],
   "source": [
    "dic_test['가수']"
   ]
  },
  {
   "cell_type": "code",
   "execution_count": 36,
   "id": "3df12a5c",
   "metadata": {},
   "outputs": [],
   "source": [
    "#딕셔너리 값 수정\n",
    "dic_1['age']=22"
   ]
  },
  {
   "cell_type": "code",
   "execution_count": 38,
   "id": "6e1edf78",
   "metadata": {},
   "outputs": [
    {
     "data": {
      "text/plain": [
       "{'name': '세연쌤',\n",
       " 'age': 22,\n",
       " 'phone': '010-0000-0000',\n",
       " 'birth': '03/20',\n",
       " 'like': 'money'}"
      ]
     },
     "execution_count": 38,
     "metadata": {},
     "output_type": "execute_result"
    }
   ],
   "source": [
    "#key 값이 중복될 수 없다.\n",
    "dic_1"
   ]
  },
  {
   "cell_type": "code",
   "execution_count": 39,
   "id": "8da5950b",
   "metadata": {},
   "outputs": [],
   "source": [
    "dic_1['age']= {'작년':20,'올해':21,'내년':22}"
   ]
  },
  {
   "cell_type": "code",
   "execution_count": 40,
   "id": "6ad419cc",
   "metadata": {},
   "outputs": [
    {
     "data": {
      "text/plain": [
       "21"
      ]
     },
     "execution_count": 40,
     "metadata": {},
     "output_type": "execute_result"
    }
   ],
   "source": [
    "dic_1['age']['올해']"
   ]
  },
  {
   "cell_type": "code",
   "execution_count": 41,
   "id": "fbac7e37",
   "metadata": {},
   "outputs": [],
   "source": [
    "# 딕셔너리 값 삭제\n",
    "# del 딕셔너리['key']\n",
    "del dic_1['phone']"
   ]
  },
  {
   "cell_type": "code",
   "execution_count": 42,
   "id": "8a17c0fb",
   "metadata": {},
   "outputs": [
    {
     "data": {
      "text/plain": [
       "{'name': '세연쌤',\n",
       " 'age': {'작년': 20, '올해': 21, '내년': 22},\n",
       " 'birth': '03/20',\n",
       " 'like': 'money'}"
      ]
     },
     "execution_count": 42,
     "metadata": {},
     "output_type": "execute_result"
    }
   ],
   "source": [
    "dic_1"
   ]
  },
  {
   "cell_type": "code",
   "execution_count": 43,
   "id": "056c6a1b",
   "metadata": {},
   "outputs": [],
   "source": [
    "del dic_test['가수','날짜']"
   ]
  },
  {
   "cell_type": "code",
   "execution_count": 45,
   "id": "36036ac9",
   "metadata": {},
   "outputs": [
    {
     "data": {
      "text/plain": [
       "{'노래제목': '아무노래', '가수': '지코'}"
      ]
     },
     "execution_count": 45,
     "metadata": {},
     "output_type": "execute_result"
    }
   ],
   "source": [
    "dic_test"
   ]
  },
  {
   "cell_type": "markdown",
   "id": "a4a80f00",
   "metadata": {},
   "source": [
    "## 딕셔너리 관련 함수\n"
   ]
  },
  {
   "cell_type": "code",
   "execution_count": 46,
   "id": "2a2b53c7",
   "metadata": {},
   "outputs": [
    {
     "data": {
      "text/plain": [
       "dict_keys(['name', 'age', 'birth', 'like'])"
      ]
     },
     "execution_count": 46,
     "metadata": {},
     "output_type": "execute_result"
    }
   ],
   "source": [
    "# key값만 뽑는 함수\n",
    "dic_1.keys()"
   ]
  },
  {
   "cell_type": "code",
   "execution_count": 47,
   "id": "62b765a7",
   "metadata": {},
   "outputs": [
    {
     "data": {
      "text/plain": [
       "dict_values(['세연쌤', {'작년': 20, '올해': 21, '내년': 22}, '03/20', 'money'])"
      ]
     },
     "execution_count": 47,
     "metadata": {},
     "output_type": "execute_result"
    }
   ],
   "source": [
    "# value 값만 뽑는 함수\n",
    "dic_1.values()"
   ]
  },
  {
   "cell_type": "code",
   "execution_count": 48,
   "id": "b2dfb7bb",
   "metadata": {},
   "outputs": [
    {
     "name": "stdout",
     "output_type": "stream",
     "text": [
      "name\n",
      "age\n",
      "birth\n",
      "like\n"
     ]
    }
   ],
   "source": [
    "#for문 - key값 가져오기\n",
    "for k in dic_1.keys():\n",
    "    print(k)"
   ]
  },
  {
   "cell_type": "code",
   "execution_count": 49,
   "id": "f8253e94",
   "metadata": {},
   "outputs": [
    {
     "name": "stdout",
     "output_type": "stream",
     "text": [
      "세연쌤\n",
      "{'작년': 20, '올해': 21, '내년': 22}\n",
      "03/20\n",
      "money\n"
     ]
    }
   ],
   "source": [
    "#for문 - value 값 가져오기\n",
    "for v in dic_1.values():\n",
    "    print(v)"
   ]
  },
  {
   "cell_type": "code",
   "execution_count": 50,
   "id": "a31469ab",
   "metadata": {},
   "outputs": [
    {
     "data": {
      "text/plain": [
       "dict_items([('name', '세연쌤'), ('age', {'작년': 20, '올해': 21, '내년': 22}), ('birth', '03/20'), ('like', 'money')])"
      ]
     },
     "execution_count": 50,
     "metadata": {},
     "output_type": "execute_result"
    }
   ],
   "source": [
    "dic_1.items()"
   ]
  },
  {
   "cell_type": "code",
   "execution_count": 52,
   "id": "ffef5b50",
   "metadata": {},
   "outputs": [
    {
     "name": "stdout",
     "output_type": "stream",
     "text": [
      "('name', '세연쌤')\n",
      "('age', {'작년': 20, '올해': 21, '내년': 22})\n",
      "('birth', '03/20')\n",
      "('like', 'money')\n"
     ]
    }
   ],
   "source": [
    "#for문 - key, value 쌍 가져오기\n",
    "for item in dic_1.items():\n",
    "    print(item)"
   ]
  },
  {
   "cell_type": "code",
   "execution_count": 53,
   "id": "343d5f29",
   "metadata": {},
   "outputs": [
    {
     "name": "stdout",
     "output_type": "stream",
     "text": [
      "name\n",
      "세연쌤\n",
      "반복\n",
      "age\n",
      "{'작년': 20, '올해': 21, '내년': 22}\n",
      "반복\n",
      "birth\n",
      "03/20\n",
      "반복\n",
      "like\n",
      "money\n",
      "반복\n"
     ]
    }
   ],
   "source": [
    "for k,v in dic_1.items():\n",
    "    print(k)\n",
    "    print(v)\n",
    "    print('반복') #어제 했던 a,b = [1,3] print(a)=1 이부분이랑 비슷 "
   ]
  },
  {
   "cell_type": "markdown",
   "id": "d5ca2c49",
   "metadata": {},
   "source": [
    "#### in, not in"
   ]
  },
  {
   "cell_type": "code",
   "execution_count": 54,
   "id": "ed0935fd",
   "metadata": {},
   "outputs": [
    {
     "data": {
      "text/plain": [
       "{'name': '세연쌤',\n",
       " 'age': {'작년': 20, '올해': 21, '내년': 22},\n",
       " 'birth': '03/20',\n",
       " 'like': 'money'}"
      ]
     },
     "execution_count": 54,
     "metadata": {},
     "output_type": "execute_result"
    }
   ],
   "source": [
    "dic_1"
   ]
  },
  {
   "cell_type": "code",
   "execution_count": 55,
   "id": "d4334221",
   "metadata": {},
   "outputs": [
    {
     "data": {
      "text/plain": [
       "True"
      ]
     },
     "execution_count": 55,
     "metadata": {},
     "output_type": "execute_result"
    }
   ],
   "source": [
    "'name' in dic_1"
   ]
  },
  {
   "cell_type": "code",
   "execution_count": 56,
   "id": "6345d680",
   "metadata": {},
   "outputs": [
    {
     "data": {
      "text/plain": [
       "False"
      ]
     },
     "execution_count": 56,
     "metadata": {},
     "output_type": "execute_result"
    }
   ],
   "source": [
    "'세연쌤' in dic_1 #key에는 없기때문에 /value만 검색 "
   ]
  },
  {
   "cell_type": "markdown",
   "id": "a742e52d",
   "metadata": {},
   "source": [
    "## 함수 구조\n",
    "- def 함수명(매개변수):\n",
    "        실행문장\n",
    "        return 반환변수\n",
    "        "
   ]
  },
  {
   "cell_type": "markdown",
   "id": "74b46335",
   "metadata": {},
   "source": [
    "## 함수(function)\n",
    "- 실행할 명령들을 독립적으로 실행할 수 있게 모아둔 집합"
   ]
  },
  {
   "cell_type": "code",
   "execution_count": 57,
   "id": "6deb7cd2",
   "metadata": {},
   "outputs": [],
   "source": [
    "#함수 정의\n",
    "def number_sum(num1,num2):\n",
    "    return num1+num2"
   ]
  },
  {
   "cell_type": "code",
   "execution_count": 59,
   "id": "3273b2b2",
   "metadata": {},
   "outputs": [
    {
     "data": {
      "text/plain": [
       "23"
      ]
     },
     "execution_count": 59,
     "metadata": {},
     "output_type": "execute_result"
    }
   ],
   "source": [
    "number_sum( 3,20 ) #함수 호출"
   ]
  },
  {
   "cell_type": "code",
   "execution_count": 64,
   "id": "b14a1210",
   "metadata": {},
   "outputs": [],
   "source": [
    "def number_sub(num1, num2):\n",
    "result = num1-num2\n",
    "return result"
   ]
  },
  {
   "cell_type": "code",
   "execution_count": 68,
   "id": "6972b96f",
   "metadata": {},
   "outputs": [
    {
     "name": "stdout",
     "output_type": "stream",
     "text": [
      "첫번째 정수 입력 >> 5\n",
      "두번째 정수 입력 >> 3\n"
     ]
    },
    {
     "data": {
      "text/plain": [
       "2"
      ]
     },
     "execution_count": 68,
     "metadata": {},
     "output_type": "execute_result"
    }
   ],
   "source": [
    "num1 = int(input(\"첫번째 정수 입력 >> \"))\n",
    "num2 = int(input(\"두번째 정수 입력 >> \"))\n",
    "result = number_sub(num1, num2) #함수호출\n",
    "result"
   ]
  },
  {
   "cell_type": "code",
   "execution_count": 77,
   "id": "64d2e362",
   "metadata": {},
   "outputs": [
    {
     "data": {
      "text/plain": [
       "'치킨 피자 '"
      ]
     },
     "execution_count": 77,
     "metadata": {},
     "output_type": "execute_result"
    }
   ],
   "source": [
    "# replace(대체할문자, 바꿀 문자) 문자열 함수\n",
    "'치킨 피자 탕수육'.replace('탕수육','')"
   ]
  },
  {
   "cell_type": "code",
   "execution_count": 82,
   "id": "ddfece77",
   "metadata": {},
   "outputs": [],
   "source": [
    "def s_replace(str1):\n",
    "    result = str1.replace('ㅋ','')\n",
    "    return result"
   ]
  },
  {
   "cell_type": "code",
   "execution_count": 85,
   "id": "55ed3480",
   "metadata": {},
   "outputs": [
    {
     "name": "stdout",
     "output_type": "stream",
     "text": [
      "문자열 입력 >> ㅋㅋㅋ를 삭제해주세요\n"
     ]
    },
    {
     "data": {
      "text/plain": [
       "'를 삭제해주세요'"
      ]
     },
     "execution_count": 85,
     "metadata": {},
     "output_type": "execute_result"
    }
   ],
   "source": [
    "s = input(\"문자열 입력 >> \")\n",
    "result= s_replace(s)\n",
    "result\n"
   ]
  },
  {
   "cell_type": "code",
   "execution_count": 86,
   "id": "6abd4900",
   "metadata": {},
   "outputs": [],
   "source": [
    "print()\n",
    "#함수에 대한 설명 : shift tab -> 함수에 대한 설명(docstring)볼 수 있음"
   ]
  },
  {
   "cell_type": "code",
   "execution_count": 87,
   "id": "208d907c",
   "metadata": {},
   "outputs": [],
   "source": [
    "def s_replace(str1):\n",
    "    \"\"\"'ㅋ'문자열을 제거해주는 함수\n",
    "    ㅋ을 제거한다.\n",
    "    독스트링 작성\n",
    "    \"\"\"\n",
    "    result = str1.replace('ㅋ','')\n",
    "    return result"
   ]
  },
  {
   "cell_type": "markdown",
   "id": "d62d6769",
   "metadata": {},
   "source": [
    "## 가변 매개변수\n"
   ]
  },
  {
   "cell_type": "code",
   "execution_count": 89,
   "id": "67e536c5",
   "metadata": {},
   "outputs": [
    {
     "ename": "TypeError",
     "evalue": "number_sub() missing 1 required positional argument: 'num2'",
     "output_type": "error",
     "traceback": [
      "\u001b[1;31m---------------------------------------------------------------------------\u001b[0m",
      "\u001b[1;31mTypeError\u001b[0m                                 Traceback (most recent call last)",
      "Input \u001b[1;32mIn [89]\u001b[0m, in \u001b[0;36m<cell line: 2>\u001b[1;34m()\u001b[0m\n\u001b[0;32m      1\u001b[0m \u001b[38;5;66;03m# 두 개의 매개변소를 받도록 만듦!\u001b[39;00m\n\u001b[1;32m----> 2\u001b[0m \u001b[43mnumber_sub\u001b[49m\u001b[43m(\u001b[49m\u001b[38;5;241;43m1\u001b[39;49m\u001b[43m)\u001b[49m\n",
      "\u001b[1;31mTypeError\u001b[0m: number_sub() missing 1 required positional argument: 'num2'"
     ]
    }
   ],
   "source": [
    "# 두 개의 매개변소를 받도록 만듦!\n",
    "number_sub(1)\n",
    "# 매개변수 갯수가 안맞으면 에러! "
   ]
  },
  {
   "cell_type": "code",
   "execution_count": 90,
   "id": "94ac99f4",
   "metadata": {},
   "outputs": [],
   "source": [
    "def add(*args):\n",
    "    print(args)"
   ]
  },
  {
   "cell_type": "code",
   "execution_count": 93,
   "id": "fb01a718",
   "metadata": {},
   "outputs": [
    {
     "name": "stdout",
     "output_type": "stream",
     "text": [
      "(1, 2, 3, 4, 5, 7, 6, 8)\n"
     ]
    }
   ],
   "source": [
    "add(1,2,3,4,5,7,6,8)\n",
    "# 가변 매개변수 : 튜플 형태로 저장"
   ]
  },
  {
   "cell_type": "code",
   "execution_count": null,
   "id": "9ecfbfc1",
   "metadata": {},
   "outputs": [],
   "source": []
  },
  {
   "cell_type": "code",
   "execution_count": null,
   "id": "3545aa73",
   "metadata": {},
   "outputs": [],
   "source": []
  },
  {
   "cell_type": "code",
   "execution_count": null,
   "id": "56e0a82f",
   "metadata": {},
   "outputs": [],
   "source": []
  },
  {
   "cell_type": "code",
   "execution_count": null,
   "id": "b9a4e186",
   "metadata": {},
   "outputs": [],
   "source": []
  },
  {
   "cell_type": "code",
   "execution_count": null,
   "id": "af8a51ae",
   "metadata": {},
   "outputs": [],
   "source": []
  },
  {
   "cell_type": "code",
   "execution_count": null,
   "id": "869190fe",
   "metadata": {},
   "outputs": [],
   "source": []
  }
 ],
 "metadata": {
  "kernelspec": {
   "display_name": "Python 3 (ipykernel)",
   "language": "python",
   "name": "python3"
  },
  "language_info": {
   "codemirror_mode": {
    "name": "ipython",
    "version": 3
   },
   "file_extension": ".py",
   "mimetype": "text/x-python",
   "name": "python",
   "nbconvert_exporter": "python",
   "pygments_lexer": "ipython3",
   "version": "3.9.12"
  }
 },
 "nbformat": 4,
 "nbformat_minor": 5
}
