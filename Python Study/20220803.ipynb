{
 "cells": [
  {
   "cell_type": "markdown",
   "id": "cb2eca62",
   "metadata": {},
   "source": [
    "### 리스트\n",
    "- 파이썬의 자류구조 형태 중 하나\n",
    "- 순서가 있는 수정 가능한 객체의 집합니다.\n",
    "- 대괄호로 작성이 되어지며 리스트 내부의 값은 콤마로 구분된다.\n",
    "- 추가, 수정, 삭제 가능하다"
   ]
  },
  {
   "cell_type": "code",
   "execution_count": null,
   "id": "6b1acfb1",
   "metadata": {},
   "outputs": [],
   "source": [
    "리스트명 = [1,2,3,]"
   ]
  },
  {
   "cell_type": "code",
   "execution_count": 1,
   "id": "3d994d93",
   "metadata": {},
   "outputs": [],
   "source": [
    "보미쌤반 = ['현범','경주','진영','주희','준기']"
   ]
  },
  {
   "cell_type": "code",
   "execution_count": 10,
   "id": "6ba288e8",
   "metadata": {},
   "outputs": [],
   "source": [
    "a=[]\n",
    "b= [1,2,3]\n",
    "c= ['my','name','is','BM']\n",
    "d=[1,2,'my','name']"
   ]
  },
  {
   "cell_type": "code",
   "execution_count": 11,
   "id": "a116cff9",
   "metadata": {},
   "outputs": [
    {
     "name": "stdout",
     "output_type": "stream",
     "text": [
      "[1, 2, 3]\n",
      "['my', 'name', 'is', 'BM']\n",
      "[1, 2, 'my', 'name']\n"
     ]
    }
   ],
   "source": [
    "print(b)\n",
    "print(c)\n",
    "print(d)"
   ]
  },
  {
   "cell_type": "code",
   "execution_count": 16,
   "id": "4c690074",
   "metadata": {},
   "outputs": [
    {
     "name": "stdout",
     "output_type": "stream",
     "text": [
      "9\n",
      "15\n"
     ]
    }
   ],
   "source": [
    "#인덱싱\n",
    "list1 = [2,5,7,9,10]\n",
    "print(list1[3])\n",
    "print(list1[1]+list1[4])"
   ]
  },
  {
   "cell_type": "code",
   "execution_count": 25,
   "id": "b37157dd",
   "metadata": {},
   "outputs": [
    {
     "name": "stdout",
     "output_type": "stream",
     "text": [
      "['a', 'b', 'c']\n",
      "b\n"
     ]
    }
   ],
   "source": [
    "list2=[1,2,3,['a','b','c']]\n",
    "print(list2[3])\n",
    "print(list2[3][1])"
   ]
  },
  {
   "cell_type": "code",
   "execution_count": 28,
   "id": "af66310b",
   "metadata": {},
   "outputs": [
    {
     "name": "stdout",
     "output_type": "stream",
     "text": [
      "[3]\n"
     ]
    }
   ],
   "source": [
    "list3 = [0,1,2,3,4]\n",
    "print(list3[3:4])"
   ]
  },
  {
   "cell_type": "code",
   "execution_count": 29,
   "id": "d1b927bf",
   "metadata": {},
   "outputs": [
    {
     "name": "stdout",
     "output_type": "stream",
     "text": [
      "[1, 2, 3, 4, 5, 6]\n"
     ]
    }
   ],
   "source": [
    "list4 = [1,2,3]\n",
    "list5 = [4,5,6]\n",
    "print(list4+list5)"
   ]
  },
  {
   "cell_type": "code",
   "execution_count": 31,
   "id": "e708e6ed",
   "metadata": {},
   "outputs": [
    {
     "name": "stdout",
     "output_type": "stream",
     "text": [
      "[0, 1, 2, 3, 4, 6, 5]\n"
     ]
    }
   ],
   "source": [
    "#리스트에 값 추가 -> append -> 맨 뒤에 데이터가 추가된다! \n",
    "list6=[0,1,2,3,4]\n",
    "list6.append(6)\n",
    "list6.append(5)\n",
    "print(list6)"
   ]
  },
  {
   "cell_type": "code",
   "execution_count": 53,
   "id": "6547313e",
   "metadata": {},
   "outputs": [
    {
     "name": "stdout",
     "output_type": "stream",
     "text": [
      "['사과', '오렌지', '수박']\n"
     ]
    }
   ],
   "source": [
    "listfruit = ['사과','포도',['수박','멜론'], '복숭아','딸기','오렌지']\n",
    "apple = listfruit[0]\n",
    "orange = listfruit[5]\n",
    "watermelon= listfruit[2][0]\n",
    "\n",
    "choice_list =[]\n",
    "choice_list.append(apple)\n",
    "choice_list.append(orange)\n",
    "choice_list.append(water)\n",
    "print(choice_list)"
   ]
  },
  {
   "cell_type": "code",
   "execution_count": 54,
   "id": "14fd7df3",
   "metadata": {},
   "outputs": [
    {
     "name": "stdout",
     "output_type": "stream",
     "text": [
      "[0, 1, 2, 6, 3, 4, 5]\n"
     ]
    }
   ],
   "source": [
    "#리스트에 값 추가하기 -> insert()\n",
    "list7 = [0,1,2,3,4,5]\n",
    "list7.insert(3,6)\n",
    "print(list7)"
   ]
  },
  {
   "cell_type": "code",
   "execution_count": 179,
   "id": "f3dfb690",
   "metadata": {},
   "outputs": [
    {
     "name": "stdout",
     "output_type": "stream",
     "text": [
      "인덱스 위치 입력 >> 1\n",
      "노래제목입력 >> next level\n",
      "가수입력 >> 에스파\n",
      "[['Butter', '방탄'], ['next level', '에스파'], ['헤픈 우연', '헤이즈'], ['라일락', '아이유']]\n"
     ]
    }
   ],
   "source": [
    "music_list = [['Butter','방탄'],['헤픈 우연','헤이즈'],['라일락','아이유']]\n",
    "loc = int(input(\"인덱스 위치 입력 >> \"))\n",
    "song = input(\"노래제목입력 >> \")\n",
    "singer = input(\"가수입력 >> \")\n",
    "music_list.insert(loc,[song,singer])\n",
    "print(music_list)"
   ]
  },
  {
   "cell_type": "code",
   "execution_count": 177,
   "id": "c26e4f5a",
   "metadata": {},
   "outputs": [
    {
     "name": "stdout",
     "output_type": "stream",
     "text": [
      "[0, 5, 2, 3, 4]\n"
     ]
    }
   ],
   "source": [
    "list8=[0,1,2,3,4]\n",
    "list8[1] = 5\n",
    "print(list8)"
   ]
  },
  {
   "cell_type": "code",
   "execution_count": 65,
   "id": "4cab82a9",
   "metadata": {},
   "outputs": [
    {
     "name": "stdout",
     "output_type": "stream",
     "text": [
      "[0, 5, 5, 2]\n"
     ]
    }
   ],
   "source": [
    "list8[2:4] = [5,2]\n",
    "print(list8)"
   ]
  },
  {
   "cell_type": "code",
   "execution_count": 79,
   "id": "629143d6",
   "metadata": {},
   "outputs": [
    {
     "name": "stdout",
     "output_type": "stream",
     "text": [
      "['h', 'i', 'j', ['a', 'b', 'c'], 3, 'd', 'e', 'f', 'g']\n"
     ]
    }
   ],
   "source": [
    "array=[1,2,3,4,5]\n",
    "array[4] = 7\n",
    "array[1] = ['a','b','c']\n",
    "array[3:5]='d','e','f','g'\n",
    "array[0:1] = 'h','i','j'\n",
    "print(array)"
   ]
  },
  {
   "cell_type": "code",
   "execution_count": 82,
   "id": "23228175",
   "metadata": {},
   "outputs": [
    {
     "name": "stdout",
     "output_type": "stream",
     "text": [
      "[0, 1, 2, 3]\n"
     ]
    }
   ],
   "source": [
    "#리스트 삭제 -> del 키워드\n",
    "list9 = [0,1,2,3,4,5]\n",
    "del list9[4:]\n",
    "print(list9)"
   ]
  },
  {
   "cell_type": "code",
   "execution_count": 83,
   "id": "558416a5",
   "metadata": {},
   "outputs": [
    {
     "name": "stdout",
     "output_type": "stream",
     "text": [
      "['a', 'b', 'd', 'e']\n"
     ]
    }
   ],
   "source": [
    "#리스트 삭제 -> remove()\n",
    "list10 = ['a','b','c','d','e']\n",
    "list10.remove('c')\n",
    "print(list10)"
   ]
  },
  {
   "cell_type": "code",
   "execution_count": 84,
   "id": "fbcba0ca",
   "metadata": {},
   "outputs": [
    {
     "name": "stdout",
     "output_type": "stream",
     "text": [
      "[3, 9, 13, 51, 77, 100]\n"
     ]
    }
   ],
   "source": [
    "#리스트 값 정렬-> 오름차순으로 정렬 -> sort()\n",
    "list11 = [9,77,13,51,100,3]\n",
    "list11.sort()\n",
    "print(list11)"
   ]
  },
  {
   "cell_type": "code",
   "execution_count": 85,
   "id": "8f6b852d",
   "metadata": {},
   "outputs": [
    {
     "name": "stdout",
     "output_type": "stream",
     "text": [
      "[3, 100, 51, 13, 77, 9]\n"
     ]
    }
   ],
   "source": [
    "#역순으로 정렬 - > reverse\n",
    "list11 = [9,77,13,51,100,3]\n",
    "list11.reverse()\n",
    "print(list11)"
   ]
  },
  {
   "cell_type": "code",
   "execution_count": 86,
   "id": "7dc1e46f",
   "metadata": {},
   "outputs": [
    {
     "name": "stdout",
     "output_type": "stream",
     "text": [
      "[100, 77, 51, 13, 9, 3]\n"
     ]
    }
   ],
   "source": [
    "list11 = [9,77,13,51,100,3]\n",
    "list11.sort()\n",
    "list11.reverse()\n",
    "print(list11)"
   ]
  },
  {
   "cell_type": "code",
   "execution_count": 88,
   "id": "3380daa8",
   "metadata": {},
   "outputs": [
    {
     "name": "stdout",
     "output_type": "stream",
     "text": [
      "[100, 77, 51, 13, 9, 3]\n"
     ]
    }
   ],
   "source": [
    "list11 = [9,77,13,51,100,3]\n",
    "list11.sort(reverse = True)\n",
    "print(list11)"
   ]
  },
  {
   "cell_type": "code",
   "execution_count": 89,
   "id": "915473a6",
   "metadata": {},
   "outputs": [
    {
     "data": {
      "text/plain": [
       "3"
      ]
     },
     "execution_count": 89,
     "metadata": {},
     "output_type": "execute_result"
    }
   ],
   "source": [
    "#리스트 위치 반환 함수 -> index()\n",
    "list12 = ['a','b','c','d','e','f']\n",
    "list12.index('d') "
   ]
  },
  {
   "cell_type": "code",
   "execution_count": 90,
   "id": "839fed4e",
   "metadata": {},
   "outputs": [
    {
     "data": {
      "text/plain": [
       "'f'"
      ]
     },
     "execution_count": 90,
     "metadata": {},
     "output_type": "execute_result"
    }
   ],
   "source": [
    "#마지막 값을 반환 후 리스트에서 제거 -> pop()\n",
    "list12 = ['a','b','c','d','e','f']\n",
    "list12.pop()"
   ]
  },
  {
   "cell_type": "code",
   "execution_count": 91,
   "id": "a9344469",
   "metadata": {},
   "outputs": [
    {
     "name": "stdout",
     "output_type": "stream",
     "text": [
      "['a', 'b', 'c', 'd', 'e']\n"
     ]
    }
   ],
   "source": [
    "print(list12)"
   ]
  },
  {
   "cell_type": "code",
   "execution_count": 184,
   "id": "e36278cf",
   "metadata": {},
   "outputs": [
    {
     "data": {
      "text/plain": [
       "6"
      ]
     },
     "execution_count": 184,
     "metadata": {},
     "output_type": "execute_result"
    }
   ],
   "source": [
    "list12 = ['a','b','c','d','e','f']\n",
    "len(list12)"
   ]
  },
  {
   "cell_type": "markdown",
   "id": "7db0a940",
   "metadata": {},
   "source": [
    "### 튜플\n",
    "- 파이썬 자료구조 형태 중 하나\n",
    "- 순서가 있는 집합\n",
    "- 소괄호로 작성되어지고 튜플 내부의 값은 콤마로 구분된다 \n",
    "- 추가, 수정, 삭제 불가능!! "
   ]
  },
  {
   "cell_type": "code",
   "execution_count": 96,
   "id": "291d10a0",
   "metadata": {},
   "outputs": [
    {
     "name": "stdout",
     "output_type": "stream",
     "text": [
      "()\n",
      "<class 'tuple'>\n"
     ]
    }
   ],
   "source": [
    "a = ()\n",
    "print(a)\n",
    "print(type(a))"
   ]
  },
  {
   "cell_type": "code",
   "execution_count": 98,
   "id": "f905919a",
   "metadata": {},
   "outputs": [
    {
     "name": "stdout",
     "output_type": "stream",
     "text": [
      "(1, 2, ('a', 'b'))\n"
     ]
    }
   ],
   "source": [
    "a= ()\n",
    "b = (1,2,3)\n",
    "c = ('a','b','c')\n",
    "d = (1,2,'a','b')\n",
    "e = (1,2,('a','b'))\n",
    "print(e)"
   ]
  },
  {
   "cell_type": "code",
   "execution_count": 100,
   "id": "8c119d66",
   "metadata": {},
   "outputs": [
    {
     "name": "stdout",
     "output_type": "stream",
     "text": [
      "('a', 'b', 'c')\n"
     ]
    }
   ],
   "source": [
    "tp = (0,1,2,3,('a','b','c'),4,5)\n",
    "print(tp[4])"
   ]
  },
  {
   "cell_type": "code",
   "execution_count": 101,
   "id": "1414d71d",
   "metadata": {},
   "outputs": [
    {
     "name": "stdout",
     "output_type": "stream",
     "text": [
      "(1, 2, 3)\n"
     ]
    }
   ],
   "source": [
    "print(tp[1:4])"
   ]
  },
  {
   "cell_type": "code",
   "execution_count": 102,
   "id": "d6dc3eec",
   "metadata": {},
   "outputs": [
    {
     "data": {
      "text/plain": [
       "7"
      ]
     },
     "execution_count": 102,
     "metadata": {},
     "output_type": "execute_result"
    }
   ],
   "source": [
    "len(tp)"
   ]
  },
  {
   "cell_type": "code",
   "execution_count": 103,
   "id": "9be26529",
   "metadata": {},
   "outputs": [
    {
     "ename": "TypeError",
     "evalue": "'tuple' object does not support item assignment",
     "output_type": "error",
     "traceback": [
      "\u001b[1;31m---------------------------------------------------------------------------\u001b[0m",
      "\u001b[1;31mTypeError\u001b[0m                                 Traceback (most recent call last)",
      "Input \u001b[1;32mIn [103]\u001b[0m, in \u001b[0;36m<cell line: 1>\u001b[1;34m()\u001b[0m\n\u001b[1;32m----> 1\u001b[0m tp[\u001b[38;5;241m3\u001b[39m] \u001b[38;5;241m=\u001b[39m \u001b[38;5;241m4\u001b[39m\n",
      "\u001b[1;31mTypeError\u001b[0m: 'tuple' object does not support item assignment"
     ]
    }
   ],
   "source": [
    "tp[3] = 4 #변경, 함수 불가능"
   ]
  },
  {
   "cell_type": "code",
   "execution_count": 125,
   "id": "f532a17a",
   "metadata": {},
   "outputs": [
    {
     "name": "stdout",
     "output_type": "stream",
     "text": [
      "검색할 문자를 입력하세요 >> 딸기\n",
      "딸기는 리스트에 1번째에 들어있습니다\n"
     ]
    }
   ],
   "source": [
    "lst=['딸기','바나나','수박','체리','포도']\n",
    "\n",
    "search = input(\"검색할 문자를 입력하세요 >> \")\n",
    "if search in lst :\n",
    "    index = lst.index(search) #lst.index(input_s)번째로도 가능 \n",
    "    print(\"{}는 리스트에 {}번째에 들어있습니다\".format(search,index+1))\n",
    "else:\n",
    "    print(\"{}는 리스트에 들어있지 않습니다.\".format(search))\n"
   ]
  },
  {
   "cell_type": "code",
   "execution_count": 140,
   "id": "46487d57",
   "metadata": {},
   "outputs": [
    {
     "name": "stdout",
     "output_type": "stream",
     "text": [
      "검색할 문자를 입력하세요 : i\n",
      "'i'는 3번 들어 있습니다.\n"
     ]
    }
   ],
   "source": [
    "s = \"Hi, My name is Mihee\"\n",
    "s.count('i')\n",
    "word = input(\"검색할 문자를 입력하세요 : \")\n",
    "if word in s :\n",
    "    print(f\"\\'{word}'는 {s.count(word)}번 들어 있습니다.\")\n",
    "else :\n",
    "    print(f\"\\'{word}'는 문자열에 들어있지 않습니다.\")"
   ]
  },
  {
   "cell_type": "code",
   "execution_count": null,
   "id": "3cde5de6",
   "metadata": {},
   "outputs": [],
   "source": [
    "while 조건식 :\n",
    "    실행문장\n",
    "    실행문장\n",
    "    "
   ]
  },
  {
   "cell_type": "code",
   "execution_count": 141,
   "id": "ffbda129",
   "metadata": {},
   "outputs": [
    {
     "name": "stdout",
     "output_type": "stream",
     "text": [
      "1\n",
      "2\n",
      "3\n"
     ]
    }
   ],
   "source": [
    "number = 1\n",
    "while number<=3 :\n",
    "    print(number)\n",
    "    number+=1"
   ]
  },
  {
   "cell_type": "code",
   "execution_count": 143,
   "id": "b00efffc",
   "metadata": {},
   "outputs": [
    {
     "name": "stdout",
     "output_type": "stream",
     "text": [
      "파이썬 최고\n",
      "파이썬 최고\n",
      "파이썬 최고\n",
      "파이썬 최고\n",
      "파이썬 최고\n",
      "파이썬 최고\n",
      "파이썬 최고\n",
      "파이썬 최고\n",
      "파이썬 최고\n",
      "파이썬 최고\n"
     ]
    }
   ],
   "source": [
    "#while문을 사용해서 \"파이썬 최고\" 13번 출력하기\n",
    "num =1 \n",
    "while number<=13 :\n",
    "    number+=1\n",
    "    print(\"파이썬 최고\")"
   ]
  },
  {
   "cell_type": "code",
   "execution_count": 146,
   "id": "f795659a",
   "metadata": {},
   "outputs": [
    {
     "name": "stdout",
     "output_type": "stream",
     "text": [
      "무한루프\n"
     ]
    }
   ],
   "source": [
    "while True :\n",
    "    print('무한루프')\n",
    "    break"
   ]
  },
  {
   "cell_type": "code",
   "execution_count": 148,
   "id": "7d69bf72",
   "metadata": {},
   "outputs": [
    {
     "name": "stdout",
     "output_type": "stream",
     "text": [
      "1\n",
      "2\n",
      "3\n"
     ]
    }
   ],
   "source": [
    "number = 1\n",
    "while True :\n",
    "    print(number)\n",
    "    number+=1\n",
    "    if number >3 :\n",
    "        break"
   ]
  },
  {
   "cell_type": "code",
   "execution_count": 185,
   "id": "d1ccfca0",
   "metadata": {},
   "outputs": [
    {
     "name": "stdout",
     "output_type": "stream",
     "text": [
      "첫 번째 정수 입력 >> 3\n",
      "두 번째 정수 입력 >> 1\n",
      "두 정수의 합 : 4\n",
      "첫 번째 정수 입력 >> 5\n",
      "두 번째 정수 입력 >> 5\n",
      "두 정수의 합 : 10\n",
      "첫 번째 정수 입력 >> 0\n",
      "두 번째 정수 입력 >> 0\n",
      "두 정수의 합 : 0\n",
      "프로그램이 종료되었습니다.\n"
     ]
    }
   ],
   "source": [
    "while True : \n",
    "    num1 = int(input(\"첫 번째 정수 입력 >> \"))\n",
    "    num2 = int(input(\"두 번째 정수 입력 >> \"))\n",
    "    print(f'두 정수의 합 : {num1+num2}')\n",
    "    if num1 == 0 and num2 == 0 :\n",
    "        print(\"프로그램이 종료되었습니다.\")\n",
    "        break\n",
    "        \n",
    "         "
   ]
  },
  {
   "cell_type": "code",
   "execution_count": 187,
   "id": "4b6217b1",
   "metadata": {},
   "outputs": [],
   "source": [
    "#랜덤 라이브러리\n",
    "import random\n"
   ]
  },
  {
   "cell_type": "code",
   "execution_count": 213,
   "id": "d8ec858d",
   "metadata": {},
   "outputs": [
    {
     "data": {
      "text/plain": [
       "4"
      ]
     },
     "execution_count": 213,
     "metadata": {},
     "output_type": "execute_result"
    }
   ],
   "source": [
    "#1~10 사이 숫자 랜덤하게 추출\n",
    "random.randint(1,10)"
   ]
  },
  {
   "cell_type": "code",
   "execution_count": 248,
   "id": "f10506ff",
   "metadata": {},
   "outputs": [
    {
     "name": "stdout",
     "output_type": "stream",
     "text": [
      "숫자를 입력하세요 >>5\n",
      "5보다 큰 수 입니다.\n",
      "숫자를 입력하세요 >>5\n",
      "5보다 큰 수 입니다.\n",
      "숫자를 입력하세요 >>50\n",
      "50보다 작은 수 입니다.\n",
      "숫자를 입력하세요 >>40\n",
      "40보다 작은 수 입니다.\n",
      "숫자를 입력하세요 >>30\n",
      "30보다 작은 수 입니다.\n",
      "숫자를 입력하세요 >>20\n",
      "20보다 큰 수 입니다.\n",
      "숫자를 입력하세요 >>10\n",
      "10보다 큰 수 입니다.\n",
      "숫자를 입력하세요 >>27\n",
      "27보다 작은 수 입니다.\n",
      "숫자를 입력하세요 >>25\n",
      "정답을 맞추셨습니다.\n"
     ]
    }
   ],
   "source": [
    "#설명 : Shift + Tab\n",
    "rd = random.randint(1,50)\n",
    "while True :\n",
    "       \n",
    "        num = int(input(\"숫자를 입력하세요 >>\"))\n",
    "        if rd==num :\n",
    "            print(\"정답을 맞추셨습니다.\")\n",
    "            break;\n",
    "        elif rd>num :\n",
    "                print(f'{num}보다 큰 수 입니다.')\n",
    "        else :\n",
    "                print(f'{num}보다 작은 수 입니다.')\n",
    "       "
   ]
  },
  {
   "cell_type": "code",
   "execution_count": 250,
   "id": "e1cd2c92",
   "metadata": {},
   "outputs": [
    {
     "name": "stdout",
     "output_type": "stream",
     "text": [
      "치\n",
      "킨\n",
      " \n",
      "먹\n",
      "고\n",
      " \n",
      "싶\n",
      "다\n"
     ]
    }
   ],
   "source": [
    "say = \"치킨 먹고 싶다\"\n",
    "for s in say :\n",
    "    print(s)"
   ]
  },
  {
   "cell_type": "code",
   "execution_count": 251,
   "id": "de49a9c9",
   "metadata": {},
   "outputs": [
    {
     "name": "stdout",
     "output_type": "stream",
     "text": [
      "햄버거\n",
      "치킨\n",
      "피자\n"
     ]
    }
   ],
   "source": [
    "list_food = ['햄버거','치킨','피자']\n",
    "for food in list_food : \n",
    "    print(food)"
   ]
  },
  {
   "cell_type": "code",
   "execution_count": 253,
   "id": "6c40b3ef",
   "metadata": {},
   "outputs": [
    {
     "name": "stdout",
     "output_type": "stream",
     "text": [
      "아우터\n",
      "차카니\n",
      "초코픽\n",
      "검은콩우유\n"
     ]
    }
   ],
   "source": [
    "snack_tuple = ('아우터','차카니','초코픽', '검은콩우유')\n",
    "\n",
    "for snack in snack_tuple :\n",
    "    print(snack)"
   ]
  },
  {
   "cell_type": "code",
   "execution_count": 261,
   "id": "4b007ce6",
   "metadata": {
    "scrolled": true
   },
   "outputs": [
    {
     "name": "stdout",
     "output_type": "stream",
     "text": [
      "1번 학생은 합격입니다.\n",
      "2번 학생은 불합격입니다.\n",
      "3번 학생은 합격입니다.\n",
      "4번 학생은 합격입니다.\n",
      "5번 학생은 불합격입니다.\n"
     ]
    }
   ],
   "source": [
    "score_list = [90,45,70,60,55]\n",
    "for score in score_list :\n",
    "    if score >= 60 :\n",
    "        print(f'{score_list.index(score)+1}번 학생은 합격입니다.')\n",
    "    else :\n",
    "        print(f'{score_list.index(score)+1}번 학생은 불합격입니다.')"
   ]
  },
  {
   "cell_type": "markdown",
   "id": "3d5d518a",
   "metadata": {},
   "source": [
    "##### range 함수\n",
    "- range(시작, 종료(포함x),증가)\n",
    "- range(기본값 0, 종료, 기본값1)\n"
   ]
  },
  {
   "cell_type": "code",
   "execution_count": 262,
   "id": "faa4e70c",
   "metadata": {},
   "outputs": [
    {
     "name": "stdout",
     "output_type": "stream",
     "text": [
      "1\n",
      "2\n",
      "3\n",
      "4\n",
      "5\n",
      "6\n",
      "7\n",
      "8\n",
      "9\n"
     ]
    }
   ],
   "source": [
    "for i in range(1,10,1):\n",
    "    print(i)"
   ]
  },
  {
   "cell_type": "code",
   "execution_count": 267,
   "id": "96629fba",
   "metadata": {},
   "outputs": [
    {
     "name": "stdout",
     "output_type": "stream",
     "text": [
      "123456789101112131415161718192021222324252627282930313233343536373839404142434445464748495051525354555657585960616263646566676869707172737475767778798081828384858687888990919293949596979899"
     ]
    }
   ],
   "source": [
    "for i in range(1,100,1) :\n",
    "    print(i,end= \"\") #출력하고 이 문자열 써라  #기본값(디폴트값) : '\\n'(개행)"
   ]
  },
  {
   "cell_type": "code",
   "execution_count": 268,
   "id": "371fcad5",
   "metadata": {},
   "outputs": [
    {
     "name": "stdout",
     "output_type": "stream",
     "text": [
      "6 7 8 9 "
     ]
    }
   ],
   "source": [
    "for i in range(6,10): #6-9. 기본값 증가량 1\n",
    "    print(i,end=' ')"
   ]
  },
  {
   "cell_type": "code",
   "execution_count": 269,
   "id": "37f2bca3",
   "metadata": {},
   "outputs": [
    {
     "name": "stdout",
     "output_type": "stream",
     "text": [
      "0\n",
      "1\n",
      "2\n",
      "3\n",
      "4\n",
      "5\n"
     ]
    }
   ],
   "source": [
    "for i in range(6): # 0-5. 기본값 증가량 1 \n",
    "    print(i)"
   ]
  },
  {
   "cell_type": "code",
   "execution_count": 272,
   "id": "d9c75a96",
   "metadata": {},
   "outputs": [
    {
     "name": "stdout",
     "output_type": "stream",
     "text": [
      "97 96 95 94 93 92 91 90 89 88 87 86 85 84 83 82 81 80 79 78 77 "
     ]
    }
   ],
   "source": [
    "for i in range(97,76,-1):\n",
    "    print(i,end = ' ')"
   ]
  },
  {
   "cell_type": "code",
   "execution_count": 275,
   "id": "ac19cc5b",
   "metadata": {},
   "outputs": [
    {
     "name": "stdout",
     "output_type": "stream",
     "text": [
      "23 24 25 26 27 28 29 30 31 32 33 34 35 36 37 38 39 "
     ]
    }
   ],
   "source": [
    "for i in range(23,40):\n",
    "    print(i,end = ' ')"
   ]
  },
  {
   "cell_type": "code",
   "execution_count": 277,
   "id": "b5314194",
   "metadata": {},
   "outputs": [
    {
     "name": "stdout",
     "output_type": "stream",
     "text": [
      "3\n",
      "20\n"
     ]
    }
   ],
   "source": [
    "a, b = 3,20\n",
    "print(a)\n",
    "print(b)"
   ]
  },
  {
   "cell_type": "code",
   "execution_count": 280,
   "id": "e870a3eb",
   "metadata": {},
   "outputs": [
    {
     "name": "stdout",
     "output_type": "stream",
     "text": [
      "1\n",
      "2\n",
      "반복중\n",
      "3\n",
      "4\n",
      "반복중\n",
      "5\n",
      "6\n",
      "반복중\n"
     ]
    }
   ],
   "source": [
    "list1 = [[1,2],[3,4],[5,6]]\n",
    "for i,j in list1 :\n",
    "    print(i)\n",
    "    print(j)\n",
    "    print('반복중')"
   ]
  },
  {
   "cell_type": "code",
   "execution_count": null,
   "id": "0ec4462c",
   "metadata": {},
   "outputs": [],
   "source": []
  },
  {
   "cell_type": "code",
   "execution_count": null,
   "id": "789c2ec1",
   "metadata": {},
   "outputs": [],
   "source": []
  },
  {
   "cell_type": "code",
   "execution_count": null,
   "id": "7cd1a77e",
   "metadata": {},
   "outputs": [],
   "source": []
  }
 ],
 "metadata": {
  "kernelspec": {
   "display_name": "Python 3 (ipykernel)",
   "language": "python",
   "name": "python3"
  },
  "language_info": {
   "codemirror_mode": {
    "name": "ipython",
    "version": 3
   },
   "file_extension": ".py",
   "mimetype": "text/x-python",
   "name": "python",
   "nbconvert_exporter": "python",
   "pygments_lexer": "ipython3",
   "version": "3.9.12"
  }
 },
 "nbformat": 4,
 "nbformat_minor": 5
}
