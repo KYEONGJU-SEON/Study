{
 "cells": [
  {
   "cell_type": "markdown",
   "id": "e408912b",
   "metadata": {},
   "source": [
    "# 키보드로 입력받아 결과 계산하기\n",
    "print(\"input함수 사용해보기\")"
   ]
  },
  {
   "cell_type": "code",
   "execution_count": 4,
   "id": "e0e9a3db",
   "metadata": {},
   "outputs": [
    {
     "name": "stdout",
     "output_type": "stream",
     "text": [
      "안녕\n"
     ]
    },
    {
     "data": {
      "text/plain": [
       "'안녕'"
      ]
     },
     "execution_count": 4,
     "metadata": {},
     "output_type": "execute_result"
    }
   ],
   "source": [
    "input()"
   ]
  },
  {
   "cell_type": "code",
   "execution_count": 9,
   "id": "1c03e799",
   "metadata": {},
   "outputs": [
    {
     "name": "stdout",
     "output_type": "stream",
     "text": [
      "정수를 입력하세요 : 100\n"
     ]
    }
   ],
   "source": [
    "num = int(input(\"정수를 입력하세요 : \"))"
   ]
  },
  {
   "cell_type": "code",
   "execution_count": 8,
   "id": "94b4c2f7",
   "metadata": {},
   "outputs": [
    {
     "name": "stdout",
     "output_type": "stream",
     "text": [
      "100\n"
     ]
    }
   ],
   "source": [
    "print(num)"
   ]
  },
  {
   "cell_type": "code",
   "execution_count": 15,
   "id": "36abbbeb",
   "metadata": {},
   "outputs": [
    {
     "name": "stdout",
     "output_type": "stream",
     "text": [
      "정수를 입력하세요 >> 7\n",
      "정수를 입력하세요 >> 3\n",
      "더하기 결과 : 10\n",
      "빼기 결과 : 4\n",
      "곱하기 결과 : 21\n",
      "나누기 결과 : 2.333333\n",
      "더하기 결과 : 10\n",
      "빼기 결과 : 4\n",
      "곱하기 결과 : 21\n",
      "나누기 결과 : 2.3333333333333335\n",
      "더하기 결과 : 10\n",
      "빼기 결과 : 4\n",
      "곱하기 결과 : 21\n",
      "나누기 결과 : 2.3333333333333335\n"
     ]
    }
   ],
   "source": [
    "num1 = int(input(\"정수를 입력하세요 >> \"))\n",
    "num2 = int(input(\"정수를 입력하세요 >> \"))\n",
    "\n",
    "add = num1 + num2\n",
    "sub = num1-num2\n",
    "mul = num1*num2\n",
    "div = num1/num2\n",
    "\n",
    "print('더하기 결과 : %d' %(add))\n",
    "print('빼기 결과 : %d' %(sub))\n",
    "print('곱하기 결과 : %d' %(mul))\n",
    "print('나누기 결과 : %f' %(div))\n",
    "\n",
    "print('더하기 결과 : {}' .format(num1+num2))\n",
    "print('빼기 결과 : {}' .format(num1-num2))\n",
    "print('곱하기 결과 : {}' .format(num1*num2))\n",
    "print('나누기 결과 : {:2f}' .format(div))\n",
    "\n",
    "print(f'더하기 결과 : {num1+num2}' )\n",
    "print(f'빼기 결과 : {num1-num2}' )\n",
    "print(f'곱하기 결과 : {num1*num2}')\n",
    "print(f'나누기 결과 : {num1/num2}' )"
   ]
  },
  {
   "cell_type": "code",
   "execution_count": 23,
   "id": "88653827",
   "metadata": {},
   "outputs": [
    {
     "name": "stdout",
     "output_type": "stream",
     "text": [
      "python 점수 입력 >> 100\n",
      "머신러닝 점수 입력 >> 80\n",
      "딥러닝 점수 입력 >> 60\n",
      "합계 : 240\n",
      "평균 : 80.0\n",
      "합계 : 240\n",
      "평균 : 80.000000\n"
     ]
    }
   ],
   "source": [
    "python = int(input(\"python 점수 입력 >> \"))\n",
    "ml = int(input(\"머신러닝 점수 입력 >> \"))\n",
    "dl = int(input(\"딥러닝 점수 입력 >> \"))\n",
    "add = python+ml+dl\n",
    "avg = add/3\n",
    "\n",
    "print(\"합계 : {}\".format(add))\n",
    "print(\"평균 : {}\".format(avg))\n",
    "\n",
    "print(f\"합계 : {add}\")\n",
    "print(\"평균 : %f\" %(avg))"
   ]
  },
  {
   "cell_type": "code",
   "execution_count": 24,
   "id": "ef119d1b",
   "metadata": {},
   "outputs": [
    {
     "name": "stdout",
     "output_type": "stream",
     "text": [
      "4\n"
     ]
    }
   ],
   "source": [
    "#지수연산자 -> **\n",
    "\n",
    "print(2**2)\n"
   ]
  },
  {
   "cell_type": "code",
   "execution_count": 34,
   "id": "4116ca06",
   "metadata": {},
   "outputs": [
    {
     "name": "stdout",
     "output_type": "stream",
     "text": [
      "정수입력 >> 2\n",
      "정수입력 >> 5\n",
      "2의 5승은 32입니다.\n"
     ]
    }
   ],
   "source": [
    "num = int(input(\"정수입력 >> \"))\n",
    "power = int(input(\"정수입력 >> \"))\n",
    "\n",
    "\n",
    "print(f\"{num}의 {power}승은 {num**power}입니다.\")"
   ]
  },
  {
   "cell_type": "markdown",
   "id": "9e3012f0",
   "metadata": {},
   "source": [
    "# 삼항연산자\n",
    "\n",
    "- a if 조건식 else b\n"
   ]
  },
  {
   "cell_type": "code",
   "execution_count": 35,
   "id": "4c249552",
   "metadata": {},
   "outputs": [
    {
     "data": {
      "text/plain": [
       "'합격'"
      ]
     },
     "execution_count": 35,
     "metadata": {},
     "output_type": "execute_result"
    }
   ],
   "source": [
    "score = 80\n",
    "#점수가 60점 이상이면 합격 미만이면 불합격\n",
    "print(\"합격\" ) if score >=60 else \"불합격\""
   ]
  },
  {
   "cell_type": "code",
   "execution_count": 36,
   "id": "88bc33a4",
   "metadata": {},
   "outputs": [
    {
     "data": {
      "text/plain": [
       "'불합격'"
      ]
     },
     "execution_count": 36,
     "metadata": {},
     "output_type": "execute_result"
    }
   ],
   "source": [
    "score = 50\n",
    "\"합격\" if score>=60 else \"불합격\""
   ]
  },
  {
   "cell_type": "code",
   "execution_count": 39,
   "id": "5c223c5e",
   "metadata": {},
   "outputs": [
    {
     "name": "stdout",
     "output_type": "stream",
     "text": [
      "정수입력 >> 3\n",
      "정수입력 >> 10\n",
      "b : 10\n"
     ]
    }
   ],
   "source": [
    "a = int(input(\"정수입력 >> \"))\n",
    "b = int(input(\"정수입력 >> \"))\n",
    "print(f\"a : {a}\") if a>b else print(f\"b : {b}\")"
   ]
  },
  {
   "cell_type": "code",
   "execution_count": 43,
   "id": "ed3ccfaf",
   "metadata": {},
   "outputs": [
    {
     "name": "stdout",
     "output_type": "stream",
     "text": [
      "첫번째 정수입력 >> 33\n",
      "두번째 정수입력 >> 5\n",
      "두 수의 차 : 28\n"
     ]
    }
   ],
   "source": [
    "num1 = int(input(\"첫번째 정수입력 >> \"))\n",
    "num2 = int(input(\"두번째 정수입력 >> \"))\n",
    "print(f\"두 수의 차 : {num1-num2}\")if num1>num2 else print(f\"두 수의 차 : {num2-num1}\")"
   ]
  },
  {
   "cell_type": "markdown",
   "id": "dfdc4ef2",
   "metadata": {},
   "source": [
    "### 조건문 \n",
    "- 상황에 따라 실행 흐름을 다르게 하는 문법\n",
    "- if, elif , else\n"
   ]
  },
  {
   "cell_type": "code",
   "execution_count": null,
   "id": "7a67153a",
   "metadata": {},
   "outputs": [],
   "source": [
    "if  조건식 :\n",
    "    실행문장\n",
    "    실행문장"
   ]
  },
  {
   "cell_type": "code",
   "execution_count": null,
   "id": "ff147a18",
   "metadata": {},
   "outputs": [],
   "source": [
    "if 조건식 :\n",
    "    실행문장1\n",
    "else :\n",
    "    실행문장2\n"
   ]
  },
  {
   "cell_type": "code",
   "execution_count": null,
   "id": "a1ef2950",
   "metadata": {},
   "outputs": [],
   "source": [
    "if 조건식 :\n",
    "    실행문장1\n",
    "elif 조건식 :\n",
    "    실행문장2\n",
    "else :\n",
    "    실행문장3"
   ]
  },
  {
   "cell_type": "code",
   "execution_count": 45,
   "id": "75cd977d",
   "metadata": {},
   "outputs": [
    {
     "name": "stdout",
     "output_type": "stream",
     "text": [
      "실행문장 실행\n",
      "if 문 밖에 있는 문장\n"
     ]
    }
   ],
   "source": [
    "if True :\n",
    "    print(\"실행문장 실행\")\n",
    "print(\"if문 밖에 있는 문장\")"
   ]
  },
  {
   "cell_type": "code",
   "execution_count": 46,
   "id": "25d7bb36",
   "metadata": {},
   "outputs": [
    {
     "name": "stdout",
     "output_type": "stream",
     "text": [
      "if문 밖에 있는 문장 \n"
     ]
    }
   ],
   "source": [
    "if False :\n",
    "    print(\"실행문장 실행\")\n",
    "print(\"if문 밖에 있는 문장 \")"
   ]
  },
  {
   "cell_type": "code",
   "execution_count": 52,
   "id": "892d3abc",
   "metadata": {},
   "outputs": [
    {
     "name": "stdout",
     "output_type": "stream",
     "text": [
      "얼마있니?5000\n",
      "버스를탄다\n"
     ]
    }
   ],
   "source": [
    "money = int(input(\"얼마있니?\"))\n",
    "if money>=10000 :\n",
    "    print(\"택시를 탄다\")\n",
    "else :\n",
    "    print(\"버스를탄다\")\n",
    "    \n"
   ]
  },
  {
   "cell_type": "code",
   "execution_count": 56,
   "id": "aa23d12e",
   "metadata": {},
   "outputs": [
    {
     "name": "stdout",
     "output_type": "stream",
     "text": [
      "정수 입력 >> 15\n",
      "3과 5의 배수입니다.\n"
     ]
    }
   ],
   "source": [
    "num = int(input(\"정수 입력 >> \"))\n",
    "if num%3== 0 and num%5==0 :\n",
    "    print(\"3과 5의 배수입니다.\")\n",
    "else :\n",
    "    print(\"3과 5의 배수가 아닙니다.\")"
   ]
  },
  {
   "cell_type": "code",
   "execution_count": 60,
   "id": "21294d8c",
   "metadata": {},
   "outputs": [
    {
     "name": "stdout",
     "output_type": "stream",
     "text": [
      "점수 입력 >> 50\n",
      "50점은 F학점입니다.\n"
     ]
    }
   ],
   "source": [
    "score = int(input(\"점수 입력 >> \"))\n",
    "if score>=90 :\n",
    "      grade = \"A\"\n",
    "elif score>=80:\n",
    "     grade = \"B\"\n",
    "elif score>=70:\n",
    "     grade = \"C\"\n",
    "elif score>=60:\n",
    "     grade = \"D\"\n",
    "else:\n",
    "     grade = \"F\"\n",
    "print('{}점은 {}학점입니다.'.format(score,grade))"
   ]
  },
  {
   "cell_type": "code",
   "execution_count": 71,
   "id": "394d38c1",
   "metadata": {},
   "outputs": [
    {
     "name": "stdout",
     "output_type": "stream",
     "text": [
      "키 몇?180\n",
      "놀이기구 탑승 가능\n",
      "나이 몇?15\n",
      "사진 찍을거냐?y\n",
      "총 비용은 1300원 입니다.\n"
     ]
    }
   ],
   "source": [
    "#키가 120cm 이상일 때 놀이기구 탑승 가능\n",
    "#나이에 따라 다른 요금\n",
    "#사진을 찍는 여부에 따라 요금 달라짐 \n",
    "\n",
    "height = int(input(\"키 몇?\"))\n",
    "if height>=120:\n",
    "    print(\"놀이기구 탑승 가능\")\n",
    "    age = int(input(\"나이 몇?\"))\n",
    "    if age<12 :\n",
    "         result = 500\n",
    "    elif age<=18 :\n",
    "        result = 1000\n",
    "    else:\n",
    "        result = 3000\n",
    "    picture = input(\"사진 찍을거냐?\")\n",
    "    if picture == \"y\":\n",
    "        result+=300\n",
    "        print(f'총 비용은 {result}원 입니다.')\n",
    "        \n",
    "else : \n",
    "    print(\"놀이기구 탑승 불가\")"
   ]
  },
  {
   "cell_type": "code",
   "execution_count": 90,
   "id": "9d58d1f0",
   "metadata": {},
   "outputs": [
    {
     "name": "stdout",
     "output_type": "stream",
     "text": [
      "\n",
      "================================================\n",
      "================---- 자판기 ----================\n",
      "================================================\n",
      "== 1.콜라 == 2.사이다 == 3.물 =======insert===\n",
      "==--------==----------==--------=======------===\n",
      "==  600 ==   800  == 1000 ======= O00원===\n",
      "=======================================------===\n",
      "================================================\n",
      "==++++++++++++++++++++++++++++++++++++++++++++==\n",
      "==++++++++++++++++++++++++++++++++++++++++++++==\n",
      "==++++++++++++++++++++++++++++++++++++++++++++==\n",
      "==+++++++++++++++             +++++++++++++++==\n",
      "==+++++++++++++++    SMHRD   +++++++++++++++==\n",
      "==+++++++++++++++             +++++++++++++++==\n",
      "==++++++++++++++++++++++++++++++++++++++++++++==\n",
      "==++++++++++++++++++++++++++++++++++++++++++++==\n",
      "================================================\n",
      "================================================\n",
      " ===                                     ===\n",
      " ===                                     ===\n",
      "\n",
      "insert coin >> 500\n",
      "메뉴선택 >>1\n",
      "잔액이 부족합니다.\n"
     ]
    }
   ],
   "source": [
    "print('''\n",
    "================================================\n",
    "================---- 자판기 ----================\n",
    "================================================\n",
    "== 1.콜라 == 2.사이다 == 3.물 =======insert===\n",
    "==--------==----------==--------=======------===\n",
    "==  600 ==   800  == 1000 ======= O00원===\n",
    "=======================================------===\n",
    "================================================\n",
    "==++++++++++++++++++++++++++++++++++++++++++++==\n",
    "==++++++++++++++++++++++++++++++++++++++++++++==\n",
    "==++++++++++++++++++++++++++++++++++++++++++++==\n",
    "==+++++++++++++++             +++++++++++++++==\n",
    "==+++++++++++++++    SMHRD   +++++++++++++++==\n",
    "==+++++++++++++++             +++++++++++++++==\n",
    "==++++++++++++++++++++++++++++++++++++++++++++==\n",
    "==++++++++++++++++++++++++++++++++++++++++++++==\n",
    "================================================\n",
    "================================================\n",
    " ===                                     ===\n",
    " ===                                     ===\n",
    "''')\n",
    "\n",
    "money = int(input('insert coin >> '))\n",
    "menu = int(input('메뉴선택 >>'))\n",
    "if menu ==1 and money>=600:\n",
    "    change = money-600\n",
    "    print(f'잔돈 >> 1000원 {change//1000}개, 500원 {change%1000//500}개, 100원 {change%500//100}개')\n",
    "elif menu==2 and money>=800:\n",
    "    change = money-800\n",
    "    print(f'잔돈 >> 1000원 {change//1000}개, 500원 {change%1000//500}개, 100원 {change%500//100}개')\n",
    "elif menu==3 and money>=1000:\n",
    "    change = money-1000\n",
    "    print(f'잔돈 >> 1000원 {change//1000}개, 500원 {change%1000//500}개, 100원 {change%500//100}개')\n",
    "else :\n",
    "    print(\"잔액이 부족합니다.\")\n",
    "    \n"
   ]
  },
  {
   "cell_type": "code",
   "execution_count": null,
   "id": "ad61cb95",
   "metadata": {},
   "outputs": [],
   "source": []
  }
 ],
 "metadata": {
  "kernelspec": {
   "display_name": "Python 3 (ipykernel)",
   "language": "python",
   "name": "python3"
  },
  "language_info": {
   "codemirror_mode": {
    "name": "ipython",
    "version": 3
   },
   "file_extension": ".py",
   "mimetype": "text/x-python",
   "name": "python",
   "nbconvert_exporter": "python",
   "pygments_lexer": "ipython3",
   "version": "3.9.12"
  }
 },
 "nbformat": 4,
 "nbformat_minor": 5
}
